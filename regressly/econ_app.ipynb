{
 "cells": [
  {
   "cell_type": "markdown",
   "id": "d81d5fbb-a5b5-4fb4-92c0-601271cccf97",
   "metadata": {},
   "source": [
    "<div style=\"text-align: center;\">\n",
    "    <h1 style=\"color: #4A90E2; font-size: 3.5em; font-weight: bold; margin-bottom: 0;\">Regressly</h1>\n",
    "    <h3 style=\"color: #7BAFD4; font-size: 1.8em; margin-top: 0;\">Simplifying Regression Analysis</h3>\n",
    "</div>"
   ]
  },
  {
   "cell_type": "markdown",
   "id": "1ed75155-d29a-4067-8525-4466f9f2e426",
   "metadata": {},
   "source": [
    " "
   ]
  },
  {
   "cell_type": "markdown",
   "id": "c4b4799d-ed58-4e51-9db1-750577219cdb",
   "metadata": {},
   "source": [
    "<div style=\"max-width: 800px; margin: 20px auto; background-color: #4A90E2; padding: 20px; border-radius: 8px; font-family: Arial, sans-serif; color: #F8F9FA;\">\n",
    "    <details style=\"cursor: pointer; margin-bottom: 15px;\">\n",
    "        <summary style=\"font-size: 1.6em; font-weight: bold; color: #FFFFFF; text-align: left; margin: 0;\">\n",
    "            ✨ Key Features\n",
    "        </summary>\n",
    "        <div style=\"margin-top: 10px; padding-left: 10px;\">\n",
    "            <ul style=\"font-size: 1.2em; color: #F0F8FF; line-height: 1.6; margin-left: 20px;\">\n",
    "                <li><strong>📂 Easy File Management:</strong> Import one or multiple CSV files effortlessly.</li>\n",
    "                <li><strong>🧹 Smart Data Cleaning:</strong> Automatically handle cleaning and aggregation tailored to your model.</li>\n",
    "                <li><strong>📅 Flexible Date Selection:</strong> Customize your data analysis with specific date ranges.</li>\n",
    "                <li><strong>📊 Seven Powerful Models:</strong> Choose from Linear, Logistic, Lasso, Random Forest, Tobit, and Probit.</li>\n",
    "                <li><strong>⚙️ Customizable Variables:</strong> Easily define dependent (Y) and independent (X) variables with built-in one-hot encoding.</li>\n",
    "                <li><strong>⚡ Instant Results:</strong> Dynamically generate actionable insights based on your inputs.</li>\n",
    "            </ul>\n",
    "        </div>\n",
    "    </details>\n",
    "</div>"
   ]
  },
  {
   "cell_type": "markdown",
   "id": "e9d5ce9d-8876-4a0d-bd16-55a69f0082a9",
   "metadata": {},
   "source": [
    "<div style=\"max-width: 800px; margin: 20px auto; background-color: #4A90E2; padding: 20px; border-radius: 8px; font-family: Arial, sans-serif; color: #F8F9FA;\">\n",
    "    <details style=\"cursor: pointer;\">\n",
    "        <summary style=\"font-size: 1.6em; font-weight: bold; color: #FFFFFF; text-align: left; margin: 0;\">\n",
    "            🚀 How It Works\n",
    "        </summary>\n",
    "        <div style=\"margin-top: 10px; padding-left: 10px;\">\n",
    "            <ol style=\"font-size: 1.2em; color: #F0F8FF; line-height: 1.6; margin-left: 20px;\">\n",
    "                <li><strong>📥 Upload Your Data:</strong> Drag and drop CSV files directly from your computer. Choose specific columns or combine multiple files.</li>\n",
    "                <li><strong>📅 Set Date Ranges:</strong> If your data includes dates, select a time frame where all files overlap for consistent analysis.</li>\n",
    "                <li><strong>🧮 Configure Variables:</strong> Define your dependent (Y) and independent (X) variables. <strong>Regressly</strong> adapts to your needs.</li>\n",
    "                <li><strong>📊 Choose a Model:</strong> Pick from seven models based on your analysis goals, from Linear Regression to advanced options like Random Forest.</li>\n",
    "                <li><strong>🚀 Run Regression:</strong> Execute your model with one click and explore detailed results in seconds.</li>\n",
    "            </ol>\n",
    "        </div>\n",
    "    </details>\n",
    "</div>"
   ]
  },
  {
   "cell_type": "markdown",
   "id": "e7bd1f51-2f1e-442b-b8bd-9bbf656f8c5a",
   "metadata": {},
   "source": [
    "<div style=\"margin-bottom: 1rem; font-family: Arial, sans-serif; color: #E0E0E0; text-align: left;\">\n",
    "    <h3 style=\"color: #32CD32; font-size: 1.5em; font-weight: bold;\">📊 Overview of Available Models</h3>\n",
    "    <p style=\"font-size: 14px; color: #E0E0E0; line-height: 1.5;\">\n",
    "        This table summarizes the key characteristics of the models available for use, including the types of dependent (Y) and independent (X) variables, as well as additional input requirements for each model.\n",
    "    </p>\n",
    "</div>\n",
    "<table border=\"1\" style=\"border-collapse: collapse; width: 100%; text-align: left; background-color: #121212; color: #E0E0E0; font-family: Arial, sans-serif; font-size: 14px;\">\n",
    "    <thead>\n",
    "        <tr style=\"background-color: #212121; border-bottom: 2px solid #32CD32;\">\n",
    "            <th style=\"padding: 15px; color: #FFFFFF; border-right: 1px solid #2C2C2C;\">Model</th>\n",
    "            <th style=\"padding: 15px; color: #32CD32; border-right: 1px solid #2C2C2C;\">Y - Variable (Dependent)</th>\n",
    "            <th style=\"padding: 15px; color: #1E90FF; border-right: 1px solid #2C2C2C;\">X - Variables (Independent)</th>\n",
    "            <th style=\"padding: 15px; color: #FF6347;\">Other Inputs</th>\n",
    "        </tr>\n",
    "    </thead>\n",
    "    <tbody>\n",
    "        <tr style=\"background-color: #1E1E1E;\">\n",
    "            <td style=\"padding: 12px; border-right: 1px solid #2C2C2C;\">Linear Regression</td>\n",
    "            <td style=\"padding: 12px; border-right: 1px solid #2C2C2C;\">Continuous</td>\n",
    "            <td style=\"padding: 12px; border-right: 1px solid #2C2C2C;\">Continuous</td>\n",
    "            <td style=\"padding: 12px;\">None</td>\n",
    "        </tr>\n",
    "        <tr style=\"background-color: #2A2A2A;\">\n",
    "            <td style=\"padding: 12px; border-right: 1px solid #2C2C2C;\">Logistic Regression</td>\n",
    "            <td style=\"padding: 12px; border-right: 1px solid #2C2C2C;\">Binary (0/1)</td>\n",
    "            <td style=\"padding: 12px; border-right: 1px solid #2C2C2C;\">Categorical or Continuous</td>\n",
    "            <td style=\"padding: 12px;\">None</td>\n",
    "        </tr>\n",
    "        <tr style=\"background-color: #1E1E1E;\">\n",
    "            <td style=\"padding: 12px; border-right: 1px solid #2C2C2C;\">Lasso Regression</td>\n",
    "            <td style=\"padding: 12px; border-right: 1px solid #2C2C2C;\">Continuous</td>\n",
    "            <td style=\"padding: 12px; border-right: 1px solid #2C2C2C;\">Categorical (One-Hot Encoded) or Continuous</td>\n",
    "            <td style=\"padding: 12px;\">Alpha (regularization strength)</td>\n",
    "        </tr>\n",
    "        <tr style=\"background-color: #2A2A2A;\">\n",
    "            <td style=\"padding: 12px; border-right: 1px solid #2C2C2C;\">Random Forest Classification</td>\n",
    "            <td style=\"padding: 12px; border-right: 1px solid #2C2C2C;\">Categorical (Binary or Multi-class)</td>\n",
    "            <td style=\"padding: 12px; border-right: 1px solid #2C2C2C;\">Categorical or Continuous</td>\n",
    "            <td style=\"padding: 12px;\">n_estimators (number of trees)</td>\n",
    "        </tr>\n",
    "        <tr style=\"background-color: #1E1E1E;\">\n",
    "            <td style=\"padding: 12px; border-right: 1px solid #2C2C2C;\">Random Forest Regression</td>\n",
    "            <td style=\"padding: 12px; border-right: 1px solid #2C2C2C;\">Continuous</td>\n",
    "            <td style=\"padding: 12px; border-right: 1px solid #2C2C2C;\">Categorical or Continuous</td>\n",
    "            <td style=\"padding: 12px;\">n_estimators (number of trees)</td>\n",
    "        </tr>\n",
    "        <tr style=\"background-color: #2A2A2A;\">\n",
    "            <td style=\"padding: 12px; border-right: 1px solid #2C2C2C;\">ARIMA</td>\n",
    "            <td style=\"padding: 12px; border-right: 1px solid #2C2C2C;\">Time-series data</td>\n",
    "            <td style=\"padding: 12px; border-right: 1px solid #2C2C2C;\">Time-indexed series</td>\n",
    "            <td style=\"padding: 12px;\">Order (p, d, q)</td>\n",
    "        </tr>\n",
    "        <tr style=\"background-color: #1E1E1E;\">\n",
    "            <td style=\"padding: 12px; border-right: 1px solid #2C2C2C;\">Probit Model</td>\n",
    "            <td style=\"padding: 12px; border-right: 1px solid #2C2C2C;\">Binary (0/1)</td>\n",
    "            <td style=\"padding: 12px; border-right: 1px solid #2C2C2C;\">Categorical or Continuous</td>\n",
    "            <td style=\"padding: 12px;\">None</td>\n",
    "        </tr>\n",
    "        <tr style=\"background-color: #2A2A2A;\">\n",
    "            <td style=\"padding: 12px; border-right: 1px solid #2C2C2C;\">Tobit Model</td>\n",
    "            <td style=\"padding: 12px; border-right: 1px solid #2C2C2C;\">Continuous (Censored)</td>\n",
    "            <td style=\"padding: 12px; border-right: 1px solid #2C2C2C;\">Categorical or Continuous</td>\n",
    "            <td style=\"padding: 12px;\">Censoring Threshold</td>\n",
    "        </tr>\n",
    "    </tbody>\n",
    "</table>\n"
   ]
  },
  {
   "cell_type": "markdown",
   "id": "8242628b-de52-458b-9e44-1c04fa795ffe",
   "metadata": {},
   "source": [
    "<div style=\"max-width: 800px; margin: 20px auto; background-color: #4A90E2; padding: 20px; border-radius: 8px; font-family: Arial, sans-serif; color: #F8F9FA;\">\n",
    "    <details style=\"cursor: pointer;\">\n",
    "        <summary style=\"font-size: 1.6em; font-weight: bold; color: #FFFFFF; text-align: left; margin: 0;\">\n",
    "            1. Packages and Imports\n",
    "        </summary>\n",
    "        <div style=\"margin-top: 10px;\">\n",
    "            <h3 style=\"color: #FFD700; font-size: 1.3em; text-align: left; margin-top: 10px; font-weight: normal;\">\n",
    "                Setting up the required Python packages and imports for the project.\n",
    "            </h3>\n",
    "            <p style=\"font-size: 1.2em; color: #F0F8FF; line-height: 1.6; text-align: left; margin: 10px 0;\">\n",
    "                The first step ensures that all required Python packages are installed. Use the following commands in a Jupyter Notebook cell:\n",
    "            </p>\n",
    "            <pre style=\"background-color: #333333; padding: 10px; border-radius: 5px; color: #F8F9FA; font-size: 1em;\">\n",
    "%pip install pandas\n",
    "%pip install ipywidgets\n",
    "%pip install statsmodels\n",
    "%pip install matplotlib\n",
    "%pip install seaborn\n",
    "%pip install scikit-learn\n",
    "%pip install ipython\n",
    "            </pre>\n",
    "            <p style=\"font-size: 1.2em; color: #F0F8FF; line-height: 1.6; text-align: left; margin: 10px 0;\">\n",
    "                After installing the packages, you can set up the necessary imports for your notebook:\n",
    "            </p>\n",
    "            <pre style=\"background-color: #333333; padding: 10px; border-radius: 5px; color: #F8F9FA; font-size: 1em;\">\n",
    "## **Imports**\n",
    "import os, json\n",
    "import pandas as pd, ipywidgets as widgets, statsmodels.api as sm\n",
    "import matplotlib.pyplot as plt, seaborn as sns\n",
    "from IPython.display import display, clear_output\n",
    "from sklearn.ensemble import RandomForestClassifier\n",
    "from sklearn.preprocessing import OneHotEncoder\n",
    "from sklearn.metrics import accuracy_score, classification_report, confusion_matrix\n",
    "\n",
    "# ---- Import Custom Modules ----\n",
    "from econometric_data.colorConfig import C\n",
    "from econometric_data.upload_data import display_file_uploader\n",
    "from econometric_data.regression_info import regression_info, display_regression_info\n",
    "from econometric_data.model_date_selection import display_model_date_selection\n",
    "from econometric_data.validation_tests import run_validation\n",
    "from econometric_data.select_model_variables import display_model_variables, run_regression_model\n",
    "            </pre>\n",
    "            <p style=\"font-size: 1.2em; color: #F0F8FF; line-height: 1.6; text-align: left; margin: 10px 0;\">\n",
    "                This setup ensures that all required libraries and modules are available for your analysis.\n",
    "                Run the first cell to install the necessary packages, and then execute the second cell to import the required libraries.\n",
    "            </p>\n",
    "        </div>\n",
    "    </details>\n",
    "</div>\n"
   ]
  },
  {
   "cell_type": "markdown",
   "id": "ab6b459c-f40b-4bb5-9d56-99153d9450e4",
   "metadata": {},
   "source": [
    "#### **Packages**"
   ]
  },
  {
   "cell_type": "code",
   "execution_count": null,
   "id": "d4aab9ff-3d65-43f0-b0c0-3500b98bf277",
   "metadata": {},
   "outputs": [],
   "source": [
    "%pip install pandas\n",
    "%pip install ipywidgets\n",
    "%pip install statsmodels\n",
    "%pip install matplotlib\n",
    "%pip install seaborn\n",
    "%pip install scikit-learn\n",
    "%pip install ipython"
   ]
  },
  {
   "cell_type": "markdown",
   "id": "309f4536-3931-47f8-b4b6-dd01229a09d9",
   "metadata": {},
   "source": [
    "#### **Imports**"
   ]
  },
  {
   "cell_type": "code",
   "execution_count": 1,
   "id": "e6c3a831-978a-4b68-9a38-6f6d0cfb260c",
   "metadata": {},
   "outputs": [],
   "source": [
    "import os, json, pandas as pd, ipywidgets as widgets, statsmodels.api as sm, matplotlib.pyplot as plt, seaborn as sns\n",
    "from IPython.display import display, clear_output\n",
    "from sklearn.ensemble import RandomForestClassifier\n",
    "from sklearn.preprocessing import OneHotEncoder\n",
    "from sklearn.metrics import accuracy_score, classification_report, confusion_matrix\n",
    "\n",
    "# ---- Import Custom Modules ----\n",
    "from econometric_data.colorConfig import C\n",
    "from econometric_data.upload_data import display_file_uploader\n",
    "from econometric_data.regression_info import regression_info, display_regression_info\n",
    "from econometric_data.model_date_selection import display_model_date_selection\n",
    "from econometric_data.validation_tests import run_validation\n",
    "from econometric_data.select_model_variables import display_model_variables, run_regression_model\n",
    "from econometric_data.mock_data_generator import generate_dataset, display_file_size"
   ]
  },
  {
   "cell_type": "markdown",
   "id": "9b0ae08a-42b8-4874-bbab-0b31ef1fe2b6",
   "metadata": {},
   "source": [
    "<div style=\"max-width: 800px; margin: 20px auto; background-color: #4A90E2; padding: 20px; border-radius: 8px; font-family: Arial, sans-serif; color: #F8F9FA;\">\n",
    "    <details style=\"cursor: pointer;\">\n",
    "        <summary style=\"font-size: 1.6em; font-weight: bold; color: #FFFFFF; text-align: left; margin: 0;\">\n",
    "            2. File Uploader\n",
    "        </summary>\n",
    "        <div style=\"margin-top: 10px;\">\n",
    "            <h3 style=\"color: #FFD700; font-size: 1.3em; text-align: left; margin-top: 10px; font-weight: normal;\">\n",
    "                This section allows users to upload CSV files directly from their computer for analysis.\n",
    "            </h3>\n",
    "            <p style=\"font-size: 1.2em; color: #F0F8FF; line-height: 1.6; text-align: left; margin: 10px 0;\">\n",
    "                The <code>display_file_uploader</code> function is part of the <code>econometric_data</code> module. \n",
    "                When called, it provides a user-friendly interface for uploading files and performing the following tasks:\n",
    "            </p>\n",
    "            <ul style=\"font-size: 1.2em; color: #F0F8FF; line-height: 1.6; margin-left: 20px;\">\n",
    "                <li><strong>Interactive Widgets:</strong> Displays widgets for navigating directories, selecting CSV files, and uploading them.</li>\n",
    "                <li><strong>Directory Navigation:</strong> Allows users to explore directories and choose files through buttons.</li>\n",
    "                <li><strong>File Validation:</strong> Ensures only valid CSV files are uploaded and processes their headers for inclusion in a JSON file.</li>\n",
    "                <li><strong>JSON File Management:</strong> Maintains a JSON file (<code>econometric_data/ingested_files.json</code>) to store file paths and headers of uploaded files.</li>\n",
    "                <li><strong>Feedback:</strong> Provides real-time feedback on selected files, uploaded files, and the JSON file content.</li>\n",
    "            </ul>\n",
    "            <p style=\"font-size: 1.2em; color: #F0F8FF; line-height: 1.6; text-align: left; margin: 10px 0;\">\n",
    "                To use this functionality in your notebook, include the following lines of code:\n",
    "            </p>\n",
    "            <pre style=\"background-color: #333333; padding: 10px; border-radius: 5px; color: #F8F9FA; font-size: 1em;\">\n",
    "from econometric_data.upload_data import display_file_uploader\n",
    "\n",
    "display_file_uploader()\n",
    "            </pre>\n",
    "            <p style=\"font-size: 1.2em; color: #F0F8FF; line-height: 1.6; text-align: left; margin: 10px 0;\">\n",
    "                This function allows users to navigate directories, select CSV files, and upload them to the notebook environment for further processing.\n",
    "            </p>\n",
    "        </div>\n",
    "    </details>\n",
    "</div>"
   ]
  },
  {
   "cell_type": "code",
   "execution_count": 3,
   "id": "5113f99c-37a9-4db3-bbf6-6cf1d972e8e6",
   "metadata": {},
   "outputs": [
    {
     "name": "stdout",
     "output_type": "stream",
     "text": [
      "JSON file econometric_data/ingested_files.json has been cleared.\n"
     ]
    },
    {
     "data": {
      "application/vnd.jupyter.widget-view+json": {
       "model_id": "b31749cfd522472a8e7cca1f83215ebb",
       "version_major": 2,
       "version_minor": 0
      },
      "text/plain": [
       "Output()"
      ]
     },
     "metadata": {},
     "output_type": "display_data"
    },
    {
     "data": {
      "application/vnd.jupyter.widget-view+json": {
       "model_id": "0c4032dacf5b4fe485347ab34eb29bf8",
       "version_major": 2,
       "version_minor": 0
      },
      "text/plain": [
       "Button(button_style='success', description='Upload File', style=ButtonStyle())"
      ]
     },
     "metadata": {},
     "output_type": "display_data"
    },
    {
     "data": {
      "application/vnd.jupyter.widget-view+json": {
       "model_id": "ffdff86d54e54d8bbccfda76b2c28588",
       "version_major": 2,
       "version_minor": 0
      },
      "text/plain": [
       "Button(button_style='primary', description='Finished Uploading', style=ButtonStyle())"
      ]
     },
     "metadata": {},
     "output_type": "display_data"
    }
   ],
   "source": [
    "# Call the function to display the widgets\n",
    "display_file_uploader() # Calls: econometric_data/upload_data.py"
   ]
  },
  {
   "cell_type": "markdown",
   "id": "fe21af28-8f58-4c1d-acc2-8632bea01729",
   "metadata": {},
   "source": [
    "<div style=\"max-width: 800px; margin: 20px auto; background-color: #4A90E2; padding: 20px; border-radius: 8px; font-family: Arial, sans-serif; color: #F8F9FA;\">\n",
    "    <details style=\"cursor: pointer;\">\n",
    "        <summary style=\"font-size: 1.6em; font-weight: bold; color: #FFFFFF; text-align: left; margin: 0;\">\n",
    "            3. Model and Date Selection\n",
    "        </summary>\n",
    "        <div style=\"margin-top: 10px;\">\n",
    "            <h3 style=\"color: #FFD700; font-size: 1.3em; text-align: left; margin-top: 10px; font-weight: normal;\">\n",
    "                This section helps configure the regression model and select date columns for datasets.\n",
    "            </h3>\n",
    "            <p style=\"font-size: 1.2em; color: #F0F8FF; line-height: 1.6; text-align: left; margin: 10px 0;\">\n",
    "                The <code>display_model_date_selection</code> function is part of the <code>econometric_data</code> module. \n",
    "                When called, it provides a widget-based interface for the following tasks:\n",
    "            </p>\n",
    "            <ul style=\"font-size: 1.2em; color: #F0F8FF; line-height: 1.6; margin-left: 20px;\">\n",
    "                <li><strong>Model Selection:</strong> Allows users to choose a regression model from a predefined list (e.g., Linear Regression, Logistic Regression).</li>\n",
    "                <li><strong>Model Information:</strong> Dynamically displays details about the selected model, including its description, formula, assumptions, and practical applications.</li>\n",
    "                <li><strong>Frequency Selection:</strong> Enables users to define the time intervals for analysis (e.g., Daily, Monthly, Annually).</li>\n",
    "                <li><strong>Date Column Mapping:</strong> Prompts users to select the appropriate date column for each uploaded dataset.</li>\n",
    "                <li><strong>Configuration Saving:</strong> Saves the selected model, frequency, and date column mappings to a JSON file (<code>econometric_data/date_and_model_selection.json</code>).</li>\n",
    "            </ul>\n",
    "            <p style=\"font-size: 1.2em; color: #F0F8FF; line-height: 1.6; text-align: left; margin: 10px 0;\">\n",
    "                To use this functionality in your notebook, include the following lines of code:\n",
    "            </p>\n",
    "            <pre style=\"background-color: #333333; padding: 10px; border-radius: 5px; color: #F8F9FA; font-size: 1em;\">\n",
    "from econometric_data.model_date_selection import display_model_date_selection\n",
    "\n",
    "display_model_date_selection()\n",
    "            </pre>\n",
    "            <p style=\"font-size: 1.2em; color: #F0F8FF; line-height: 1.6; text-align: left; margin: 10px 0;\">\n",
    "                This function provides an interactive way to configure regression models and time intervals, ensuring all datasets are aligned for analysis.\n",
    "            </p>\n",
    "        </div>\n",
    "    </details>\n",
    "</div>"
   ]
  },
  {
   "cell_type": "code",
   "execution_count": 4,
   "id": "75281198-aae3-447b-be4e-7a79c26faf0e",
   "metadata": {},
   "outputs": [
    {
     "name": "stdout",
     "output_type": "stream",
     "text": [
      "\u001b[1m\u001b[38;2;255;255;240m📘 Please select your desired \u001b[0m\u001b[1m\u001b[38;2;135;206;235mregression model\u001b[0m\u001b[1m\u001b[38;2;255;255;240m and \u001b[0m\u001b[1m\u001b[38;2;255;20;147mfrequency\u001b[0m\u001b[1m\u001b[38;2;255;255;240m below.\u001b[0m\n",
      "\u001b[38;2;255;255;240mThe '\u001b[0m\u001b[1m\u001b[38;2;0;123;51mModel\u001b[0m\u001b[1m\u001b[38;2;255;255;240m' defines the type of statistical analysis you want to perform (e.g., Linear Regression).\u001b[0m\n",
      "\u001b[38;2;255;255;240mThe '\u001b[0m\u001b[1m\u001b[38;2;135;206;235mFrequency\u001b[0m\u001b[1m\u001b[38;2;255;255;240m' defines the time intervals of your datasets - \u001b[3mAll datasets should have the same frequency.\u001b[0m\n"
     ]
    },
    {
     "data": {
      "application/vnd.jupyter.widget-view+json": {
       "model_id": "8fb9529d62dd48f1805bf0766b5950c5",
       "version_major": 2,
       "version_minor": 0
      },
      "text/plain": [
       "Dropdown(description='Model:', options=('Linear Regression', 'Logistic Regression', 'ARIMA', 'Probit Model', '…"
      ]
     },
     "metadata": {},
     "output_type": "display_data"
    },
    {
     "data": {
      "application/vnd.jupyter.widget-view+json": {
       "model_id": "518857f73e82405ab172c28fefe89d85",
       "version_major": 2,
       "version_minor": 0
      },
      "text/plain": [
       "Output()"
      ]
     },
     "metadata": {},
     "output_type": "display_data"
    },
    {
     "data": {
      "application/vnd.jupyter.widget-view+json": {
       "model_id": "d42cbcdb2da04916b149bf732a14ab7c",
       "version_major": 2,
       "version_minor": 0
      },
      "text/plain": [
       "Dropdown(description='Frequency:', options=('Daily', 'Weekly', 'Monthly', 'Quarterly', 'Annually'), value='Dai…"
      ]
     },
     "metadata": {},
     "output_type": "display_data"
    },
    {
     "data": {
      "application/vnd.jupyter.widget-view+json": {
       "model_id": "d2321c1cb13c4a4ebe97f46a473dbdb3",
       "version_major": 2,
       "version_minor": 0
      },
      "text/plain": [
       "Output()"
      ]
     },
     "metadata": {},
     "output_type": "display_data"
    },
    {
     "data": {
      "application/vnd.jupyter.widget-view+json": {
       "model_id": "e8bd812c099d480b987831cf8727d515",
       "version_major": 2,
       "version_minor": 0
      },
      "text/plain": [
       "Button(button_style='success', description='Submit Selections', style=ButtonStyle())"
      ]
     },
     "metadata": {},
     "output_type": "display_data"
    },
    {
     "data": {
      "application/vnd.jupyter.widget-view+json": {
       "model_id": "31f38c5b7ec74b43a5abbf660380ac83",
       "version_major": 2,
       "version_minor": 0
      },
      "text/plain": [
       "Output()"
      ]
     },
     "metadata": {},
     "output_type": "display_data"
    }
   ],
   "source": [
    "display_model_date_selection() # Calls: econometric_data/model_date_selection.py"
   ]
  },
  {
   "cell_type": "markdown",
   "id": "bd83ac11-3f0b-46dd-8dd4-148ab9024d02",
   "metadata": {},
   "source": [
    "## **<span style=\"color:dodgerblue;\">__4. Select Model Type__</span>**"
   ]
  },
  {
   "cell_type": "code",
   "execution_count": 5,
   "id": "42583c22-2e4c-40fa-b820-eade8f8fc457",
   "metadata": {},
   "outputs": [
    {
     "data": {
      "application/vnd.jupyter.widget-view+json": {
       "model_id": "5600890c2c5445009bbe1d2a94d317e5",
       "version_major": 2,
       "version_minor": 0
      },
      "text/plain": [
       "HTML(value=\"<b>The data exists in this range: </b><span style='color:#FF69B4;'>1986-01-01</span> <b>to</b> <sp…"
      ]
     },
     "metadata": {},
     "output_type": "display_data"
    },
    {
     "data": {
      "application/vnd.jupyter.widget-view+json": {
       "model_id": "bb15975d142f4528be938889ccc88545",
       "version_major": 2,
       "version_minor": 0
      },
      "text/plain": [
       "HTML(value=\"<b>Selecting variables for <span style='color:#228B22'>Linear Regression</span> model:</b>\")"
      ]
     },
     "metadata": {},
     "output_type": "display_data"
    },
    {
     "data": {
      "application/vnd.jupyter.widget-view+json": {
       "model_id": "931bee2bdc7b414583dadc58e32cfe04",
       "version_major": 2,
       "version_minor": 0
      },
      "text/plain": [
       "Dropdown(description='Start Month: ', options=('Jan', 'Feb', 'Mar', 'Apr', 'May', 'Jun', 'Jul', 'Aug', 'Sep', …"
      ]
     },
     "metadata": {},
     "output_type": "display_data"
    },
    {
     "data": {
      "application/vnd.jupyter.widget-view+json": {
       "model_id": "0430ceaa0a5b4665a9c55d37d5e965ae",
       "version_major": 2,
       "version_minor": 0
      },
      "text/plain": [
       "Dropdown(description='Start Year: ', options=('1986', '1987', '1988', '1989', '1990', '1991', '1992', '1993', …"
      ]
     },
     "metadata": {},
     "output_type": "display_data"
    },
    {
     "data": {
      "application/vnd.jupyter.widget-view+json": {
       "model_id": "ac5486906ce94bb98e4170b5a40eec78",
       "version_major": 2,
       "version_minor": 0
      },
      "text/plain": [
       "Dropdown(description='End Month: ', index=11, options=('Jan', 'Feb', 'Mar', 'Apr', 'May', 'Jun', 'Jul', 'Aug',…"
      ]
     },
     "metadata": {},
     "output_type": "display_data"
    },
    {
     "data": {
      "application/vnd.jupyter.widget-view+json": {
       "model_id": "9fe588f6f6d64d78acddea2ab5e8cda1",
       "version_major": 2,
       "version_minor": 0
      },
      "text/plain": [
       "Dropdown(description='End Year: ', index=37, options=('1986', '1987', '1988', '1989', '1990', '1991', '1992', …"
      ]
     },
     "metadata": {},
     "output_type": "display_data"
    },
    {
     "data": {
      "application/vnd.jupyter.widget-view+json": {
       "model_id": "e04a75bb7c784fa5bc8d6c5990154cfd",
       "version_major": 2,
       "version_minor": 0
      },
      "text/plain": [
       "HTML(value=\"<b>Please Select the '<span style='color:#1E90FF'>Dependent Variable</span>' for the Regression:</…"
      ]
     },
     "metadata": {},
     "output_type": "display_data"
    },
    {
     "data": {
      "application/vnd.jupyter.widget-view+json": {
       "model_id": "f30cbdd5f41a47fe9184b6ba93dff7f8",
       "version_major": 2,
       "version_minor": 0
      },
      "text/plain": [
       "Dropdown(description='Y Variable:', options=('DCOILWTICO', 'IRSTFR01USM156N', 'POPTHM', 'TOTALSA', 'UNRATE'), …"
      ]
     },
     "metadata": {},
     "output_type": "display_data"
    },
    {
     "data": {
      "application/vnd.jupyter.widget-view+json": {
       "model_id": "0fcd81d935a247dfa5f058e88a088536",
       "version_major": 2,
       "version_minor": 0
      },
      "text/plain": [
       "HTML(value=\"<b>Please Select the '<span style='color:#FF8C00'>Independent Variables</span>' for the Regression…"
      ]
     },
     "metadata": {},
     "output_type": "display_data"
    },
    {
     "data": {
      "application/vnd.jupyter.widget-view+json": {
       "model_id": "c1e67d3df1ab4d1aacae8ba703fa4495",
       "version_major": 2,
       "version_minor": 0
      },
      "text/plain": [
       "SelectMultiple(description='X Variables:', options=('DCOILWTICO', 'IRSTFR01USM156N', 'POPTHM', 'TOTALSA', 'UNR…"
      ]
     },
     "metadata": {},
     "output_type": "display_data"
    },
    {
     "data": {
      "application/vnd.jupyter.widget-view+json": {
       "model_id": "86cbafdeec9d4f70a0dbe04d7904ecca",
       "version_major": 2,
       "version_minor": 0
      },
      "text/plain": [
       "Button(button_style='success', description='Submit Selections', style=ButtonStyle())"
      ]
     },
     "metadata": {},
     "output_type": "display_data"
    },
    {
     "data": {
      "application/vnd.jupyter.widget-view+json": {
       "model_id": "0df1742cc0b245f1b16f505300d5f315",
       "version_major": 2,
       "version_minor": 0
      },
      "text/plain": [
       "Output()"
      ]
     },
     "metadata": {},
     "output_type": "display_data"
    }
   ],
   "source": [
    "display_model_variables() # Calls: econometric_data/"
   ]
  },
  {
   "cell_type": "markdown",
   "id": "499fb1d7-f69b-4bb2-8786-af546551e6ff",
   "metadata": {},
   "source": [
    "## **<span style=\"color:dodgerblue;\">__5. Run Regression__</span>**"
   ]
  },
  {
   "cell_type": "code",
   "execution_count": 6,
   "id": "1802827b-d73e-4736-a501-66093c3937ea",
   "metadata": {},
   "outputs": [
    {
     "name": "stdout",
     "output_type": "stream",
     "text": [
      "\n",
      "🔄 \u001b[1m\u001b[38;2;144;238;144mRunning a Linear Regression based on provided inputs:\n",
      "   ✅\u001b[1m\u001b[38;2;255;0;51m Y Variable:\u001b[0m\u001b[1m\u001b[38;2;255;255;240m POPTHM\n",
      "   ✅\u001b[1m\u001b[38;2;135;206;235m X Variables: \u001b[0m\u001b[1m\u001b[38;2;255;255;240m DCOILWTICO, IRSTFR01USM156N, TOTALSA, UNRATE\u001b[0m\u001b[1m\u001b[38;2;255;218;185m\n",
      "\n",
      "                            OLS Regression Results                            \n",
      "==============================================================================\n",
      "Dep. Variable:                 POPTHM   R-squared:                       0.835\n",
      "Model:                            OLS   Adj. R-squared:                  0.834\n",
      "Method:                 Least Squares   F-statistic:                     571.2\n",
      "Date:                Fri, 17 Jan 2025   Prob (F-statistic):          5.39e-175\n",
      "Time:                        21:28:22   Log-Likelihood:                -4933.1\n",
      "No. Observations:                 456   AIC:                             9876.\n",
      "Df Residuals:                     451   BIC:                             9897.\n",
      "Df Model:                           4                                         \n",
      "Covariance Type:            nonrobust                                         \n",
      "===================================================================================\n",
      "                      coef    std err          t      P>|t|      [0.025      0.975]\n",
      "-----------------------------------------------------------------------------------\n",
      "const             3.37e+05   9099.790     37.030      0.000    3.19e+05    3.55e+05\n",
      "DCOILWTICO        389.3618     24.888     15.645      0.000     340.451     438.273\n",
      "IRSTFR01USM156N -7324.5701    296.225    -24.726      0.000   -7906.723   -6742.417\n",
      "TOTALSA           -57.7005    383.060     -0.151      0.880    -810.505     695.104\n",
      "UNRATE          -6546.3378    496.880    -13.175      0.000   -7522.825   -5569.850\n",
      "==============================================================================\n",
      "Omnibus:                      209.499   Durbin-Watson:                   0.119\n",
      "Prob(Omnibus):                  0.000   Jarque-Bera (JB):             1752.253\n",
      "Skew:                           1.782   Prob(JB):                         0.00\n",
      "Kurtosis:                      11.917   Cond. No.                         918.\n",
      "==============================================================================\n",
      "\n",
      "Notes:\n",
      "[1] Standard Errors assume that the covariance matrix of the errors is correctly specified.\n"
     ]
    },
    {
     "data": {
      "image/png": "[encoded data removed]",
      "text/plain": [
       "<Figure size 1000x600 with 1 Axes>"
      ]
     },
     "metadata": {},
     "output_type": "display_data"
    }
   ],
   "source": [
    "run_regression_model() #Calls: econometric_data/select_model_variables.py --> econometric_modes/run_{regression}_model.py"
   ]
  },
  {
   "cell_type": "markdown",
   "id": "6f955acc-d19e-4728-ab4b-3be91379f448",
   "metadata": {},
   "source": [
    "## **Data Validation**"
   ]
  },
  {
   "cell_type": "code",
   "execution_count": 7,
   "id": "a5345038-7368-451b-baf8-a1eb46801b47",
   "metadata": {},
   "outputs": [
    {
     "data": {
      "text/html": [
       "<b>🔎 <span style='color:#4A90E2;'>Validating Linear Regression Data</span></b>"
      ],
      "text/plain": [
       "<IPython.core.display.HTML object>"
      ]
     },
     "metadata": {},
     "output_type": "display_data"
    },
    {
     "name": "stdout",
     "output_type": "stream",
     "text": [
      "\u001b[1m\u001b[38;2;255;228;181mRules:\u001b[0m\n",
      "  - Y Variable must be continuous.\n",
      "  - X Variables must be continuous.\n",
      "  - No additional inputs required.\n",
      "\n",
      "📊 Y Variable: POPTHM\n",
      "  - Missing Values: 0\n",
      "  - Unique Values: 791\n",
      "\n",
      "📊 X Variable: DCOILWTICO\n",
      "  - Missing Values: 0\n",
      "  - Unique Values: 446\n",
      "\n",
      "📊 X Variable: IRSTFR01USM156N\n",
      "  - Missing Values: 0\n",
      "  - Unique Values: 469\n",
      "\n",
      "📊 X Variable: TOTALSA\n",
      "  - Missing Values: 0\n",
      "  - Unique Values: 563\n",
      "\n",
      "📊 X Variable: UNRATE\n",
      "  - Missing Values: 0\n",
      "  - Unique Values: 83\n",
      "\n",
      "✅ Linear Regression Data Validation Completed.\n",
      "\n"
     ]
    }
   ],
   "source": [
    "# Run the validation tests\n",
    "run_validation()  # Calls: econometric_data/validation.py"
   ]
  },
  {
   "cell_type": "markdown",
   "id": "9705bf42-ee45-493c-9020-10b454e49417",
   "metadata": {},
   "source": [
    "## **Mock Data**"
   ]
  },
  {
   "cell_type": "code",
   "execution_count": 8,
   "id": "3f05d5ca-813a-44fe-ad91-765a0773bdc9",
   "metadata": {},
   "outputs": [
    {
     "name": "stdout",
     "output_type": "stream",
     "text": [
      "\u001b[1m\u001b[32m✅ Dataset successfully generated and saved to:\u001b[0m \u001b[34mmock_dataset.csv\u001b[0m\n"
     ]
    }
   ],
   "source": [
    "generate_dataset(\n",
    "    n_rows=1_000_000, \n",
    "    start_date=\"2000-01-01\", \n",
    "    end_date=\"2022-12-31\", \n",
    "    file_name=\"mock_dataset.csv\"\n",
    ")"
   ]
  },
  {
   "cell_type": "code",
   "execution_count": 9,
   "id": "e15e929c-605e-485c-8b62-7d44d4a32709",
   "metadata": {},
   "outputs": [
    {
     "name": "stdout",
     "output_type": "stream",
     "text": [
      "\u001b[1m\u001b[32m📁 File size of 'mock_dataset.csv':\u001b[0m\n",
      "  \u001b[1m\u001b[33m- 57.88 MB\u001b[0m\n",
      "  \u001b[1m\u001b[38;2;0;255;255m- 0.06 GB\u001b[0m\n"
     ]
    }
   ],
   "source": [
    "# Display the file size\n",
    "display_file_size(file_path=\"mock_dataset.csv\")"
   ]
  }
 ],
 "metadata": {
  "kernelspec": {
   "display_name": "Python (LMG_Kernel)",
   "language": "python",
   "name": "lmg_kernel"
  },
  "language_info": {
   "codemirror_mode": {
    "name": "ipython",
    "version": 3
   },
   "file_extension": ".py",
   "mimetype": "text/x-python",
   "name": "python",
   "nbconvert_exporter": "python",
   "pygments_lexer": "ipython3",
   "version": "3.9.13"
  },
  "widgets": {
   "application/vnd.jupyter.widget-state+json": {
    "state": {
     "0078b2e252a34145b2046f3e572ef7c1": {
      "model_module": "@jupyter-widgets/controls",
      "model_module_version": "2.0.0",
      "model_name": "DescriptionStyleModel",
      "state": {
       "description_width": ""
      }
     },
     "00b8eb0b5239476a835b9c8842e23d9f": {
      "model_module": "@jupyter-widgets/base",
      "model_module_version": "2.0.0",
      "model_name": "LayoutModel",
      "state": {}
     },
     "0256e68970a74804958224f9e6038959": {
      "model_module": "@jupyter-widgets/base",
      "model_module_version": "2.0.0",
      "model_name": "LayoutModel",
      "state": {}
     },
     "025ca363c3e7409dbcdc4a6b815d1431": {
      "model_module": "@jupyter-widgets/base",
      "model_module_version": "2.0.0",
      "model_name": "LayoutModel",
      "state": {}
     },
     "0430ceaa0a5b4665a9c55d37d5e965ae": {
      "model_module": "@jupyter-widgets/controls",
      "model_module_version": "2.0.0",
      "model_name": "DropdownModel",
      "state": {
       "_options_labels": [
        "1986",
        "1987",
        "1988",
        "1989",
        "1990",
        "1991",
        "1992",
        "1993",
        "1994",
        "1995",
        "1996",
        "1997",
        "1998",
        "1999",
        "2000",
        "2001",
        "2002",
        "2003",
        "2004",
        "2005",
        "2006",
        "2007",
        "2008",
        "2009",
        "2010",
        "2011",
        "2012",
        "2013",
        "2014",
        "2015",
        "2016",
        "2017",
        "2018",
        "2019",
        "2020",
        "2021",
        "2022",
        "2023"
       ],
       "description": "Start Year: ",
       "index": 4,
       "layout": "IPY_MODEL_69225d7d24524784a8018d24fdd944a6",
       "style": "IPY_MODEL_bf66e8583cfe48b1b76549f8b7269ae3"
      }
     },
     "053819aa27784bd9a970b8c29562eccb": {
      "model_module": "@jupyter-widgets/base",
      "model_module_version": "2.0.0",
      "model_name": "LayoutModel",
      "state": {}
     },
     "05ce87aafa9a405aa1e3ab1cab637b99": {
      "model_module": "@jupyter-widgets/controls",
      "model_module_version": "2.0.0",
      "model_name": "ButtonModel",
      "state": {
       "button_style": "primary",
       "description": "📄 logistic_regression_dataset-Social_Network_Ads.csv",
       "layout": "IPY_MODEL_12bae3c25dcd47fdad58c35c4f077ca0",
       "style": "IPY_MODEL_11a8e8ce2e2e4d2b8f050276ed0005ca",
       "tooltip": null
      }
     },
     "076cea9ebe3548a0b409f89614199580": {
      "model_module": "@jupyter-widgets/controls",
      "model_module_version": "2.0.0",
      "model_name": "ButtonModel",
      "state": {
       "button_style": "primary",
       "description": "📄 UNRATE_MON_1948-2024.csv",
       "layout": "IPY_MODEL_9a213d3105f943de9dbfeefc0022b985",
       "style": "IPY_MODEL_fc93bc3e63ab401c96b66d6db38df1b6",
       "tooltip": null
      }
     },
     "09028f8765d74761b84556fdca3b28ca": {
      "model_module": "@jupyter-widgets/controls",
      "model_module_version": "2.0.0",
      "model_name": "ButtonModel",
      "state": {
       "button_style": "primary",
       "description": "📄 UNRATE_MON_1948-2024.csv",
       "layout": "IPY_MODEL_c90c5af626f349e4be7961123ca5e9f8",
       "style": "IPY_MODEL_465c1f153f6e4b48ac754209d3cbba6d",
       "tooltip": null
      }
     },
     "09cfeb2a6d084f74b569b44fa7c2f7ec": {
      "model_module": "@jupyter-widgets/controls",
      "model_module_version": "2.0.0",
      "model_name": "HTMLStyleModel",
      "state": {
       "description_width": "",
       "font_size": null,
       "text_color": null
      }
     },
     "0a211d9714904789b3be60171169f72a": {
      "model_module": "@jupyter-widgets/controls",
      "model_module_version": "2.0.0",
      "model_name": "ButtonModel",
      "state": {
       "button_style": "primary",
       "description": "📄 TOTALVEHICLESALES_MON_1976-2024.csv",
       "layout": "IPY_MODEL_9af7e98dcc8043d49366d1e743ad7a87",
       "style": "IPY_MODEL_12911489b8ac4c01a40cd3f9b91305f2",
       "tooltip": null
      }
     },
     "0ab1af1e06c245dd9514ee0c475209e1": {
      "model_module": "@jupyter-widgets/controls",
      "model_module_version": "2.0.0",
      "model_name": "ButtonStyleModel",
      "state": {
       "font_family": null,
       "font_size": null,
       "font_style": null,
       "font_variant": null,
       "font_weight": null,
       "text_color": null,
       "text_decoration": null
      }
     },
     "0b731259cf814ad998a7ed6c89cbe5a0": {
      "model_module": "@jupyter-widgets/base",
      "model_module_version": "2.0.0",
      "model_name": "LayoutModel",
      "state": {}
     },
     "0bd0b6dbcad94425ada7e52a4c722162": {
      "model_module": "@jupyter-widgets/base",
      "model_module_version": "2.0.0",
      "model_name": "LayoutModel",
      "state": {}
     },
     "0c4032dacf5b4fe485347ab34eb29bf8": {
      "model_module": "@jupyter-widgets/controls",
      "model_module_version": "2.0.0",
      "model_name": "ButtonModel",
      "state": {
       "button_style": "success",
       "description": "Upload File",
       "layout": "IPY_MODEL_1f62e745401e4bdab274c0bdf73366f4",
       "style": "IPY_MODEL_12f112e9d92946d3ae6290ed3f0edd62",
       "tooltip": null
      }
     },
     "0df1742cc0b245f1b16f505300d5f315": {
      "model_module": "@jupyter-widgets/output",
      "model_module_version": "1.0.0",
      "model_name": "OutputModel",
      "state": {
       "layout": "IPY_MODEL_44746846114c404592702bd3fcfc20f7",
       "outputs": [
        {
         "data": {
          "application/vnd.jupyter.widget-view+json": {
           "model_id": "a556071efa1b44feb40013eb8760896f",
           "version_major": 2,
           "version_minor": 0
          },
          "text/plain": "HTML(value=\"<b style='color:#32CD32;'>✅ Selected Date Range: <span style='color:#FF69B4'>1990-01-01 to 2020-12…"
         },
         "metadata": {},
         "output_type": "display_data"
        },
        {
         "data": {
          "application/vnd.jupyter.widget-view+json": {
           "model_id": "55181a218e7a4591a288a5a1be94c013",
           "version_major": 2,
           "version_minor": 0
          },
          "text/plain": "HTML(value=\"<b style='color:#FF4500;'>Y Variable: POPTHM</b>\")"
         },
         "metadata": {},
         "output_type": "display_data"
        },
        {
         "data": {
          "application/vnd.jupyter.widget-view+json": {
           "model_id": "78a3256b47784e2083df115c289a188b",
           "version_major": 2,
           "version_minor": 0
          },
          "text/plain": "HTML(value=\"<b style='color:#1E90FF;'>X Variables: DCOILWTICO, IRSTFR01USM156N, TOTALSA, UNRATE</b>\")"
         },
         "metadata": {},
         "output_type": "display_data"
        },
        {
         "data": {
          "application/vnd.jupyter.widget-view+json": {
           "model_id": "dc4544cdb1074d99b8eae2ed25e4e7b0",
           "version_major": 2,
           "version_minor": 0
          },
          "text/plain": "HTML(value=\"<b style='color:#FF69B4;'>Selections saved to 'econometric_data/selected_variables.json'</b>\")"
         },
         "metadata": {},
         "output_type": "display_data"
        }
       ]
      }
     },
     "0e0e26df39954fca87a02bbc2dc63016": {
      "model_module": "@jupyter-widgets/base",
      "model_module_version": "2.0.0",
      "model_name": "LayoutModel",
      "state": {}
     },
     "0e219774f53e416fb071e31300fc5d0d": {
      "model_module": "@jupyter-widgets/controls",
      "model_module_version": "2.0.0",
      "model_name": "ButtonStyleModel",
      "state": {
       "font_family": null,
       "font_size": null,
       "font_style": null,
       "font_variant": null,
       "font_weight": null,
       "text_color": null,
       "text_decoration": null
      }
     },
     "0f5cda6da255491ab942dd61f4a0710d": {
      "model_module": "@jupyter-widgets/controls",
      "model_module_version": "2.0.0",
      "model_name": "ButtonStyleModel",
      "state": {
       "font_family": null,
       "font_size": null,
       "font_style": null,
       "font_variant": null,
       "font_weight": null,
       "text_color": null,
       "text_decoration": null
      }
     },
     "0fcd81d935a247dfa5f058e88a088536": {
      "model_module": "@jupyter-widgets/controls",
      "model_module_version": "2.0.0",
      "model_name": "HTMLModel",
      "state": {
       "layout": "IPY_MODEL_79ace8ab375c4b83b41fc81195f25603",
       "style": "IPY_MODEL_c4e86b534dd7410f8551f12328cca97e",
       "value": "<b>Please Select the '<span style='color:#FF8C00'>Independent Variables</span>' for the Regression:</b>"
      }
     },
     "1048dc3a28d7435ba3b7da4e7576835b": {
      "model_module": "@jupyter-widgets/controls",
      "model_module_version": "2.0.0",
      "model_name": "ButtonStyleModel",
      "state": {
       "font_family": null,
       "font_size": null,
       "font_style": null,
       "font_variant": null,
       "font_weight": null,
       "text_color": null,
       "text_decoration": null
      }
     },
     "10cb85070870457e9f0d0b80d36e1645": {
      "model_module": "@jupyter-widgets/controls",
      "model_module_version": "2.0.0",
      "model_name": "DescriptionStyleModel",
      "state": {
       "description_width": ""
      }
     },
     "11a8e8ce2e2e4d2b8f050276ed0005ca": {
      "model_module": "@jupyter-widgets/controls",
      "model_module_version": "2.0.0",
      "model_name": "ButtonStyleModel",
      "state": {
       "font_family": null,
       "font_size": null,
       "font_style": null,
       "font_variant": null,
       "font_weight": null,
       "text_color": null,
       "text_decoration": null
      }
     },
     "11d06810ca97460f8af2d1fd5fce1aad": {
      "model_module": "@jupyter-widgets/controls",
      "model_module_version": "2.0.0",
      "model_name": "ButtonStyleModel",
      "state": {
       "font_family": null,
       "font_size": null,
       "font_style": null,
       "font_variant": null,
       "font_weight": null,
       "text_color": null,
       "text_decoration": null
      }
     },
     "121f542f50a14990b27fe08f320bd692": {
      "model_module": "@jupyter-widgets/controls",
      "model_module_version": "2.0.0",
      "model_name": "ButtonModel",
      "state": {
       "button_style": "primary",
       "description": "📄 C-OIL_MON$AVG-BARL_1986-2024.csv",
       "layout": "IPY_MODEL_bab7e471e6834b94b07ede4ed2c2a7ba",
       "style": "IPY_MODEL_11d06810ca97460f8af2d1fd5fce1aad",
       "tooltip": null
      }
     },
     "12911489b8ac4c01a40cd3f9b91305f2": {
      "model_module": "@jupyter-widgets/controls",
      "model_module_version": "2.0.0",
      "model_name": "ButtonStyleModel",
      "state": {
       "font_family": null,
       "font_size": null,
       "font_style": null,
       "font_variant": null,
       "font_weight": null,
       "text_color": null,
       "text_decoration": null
      }
     },
     "12bae3c25dcd47fdad58c35c4f077ca0": {
      "model_module": "@jupyter-widgets/base",
      "model_module_version": "2.0.0",
      "model_name": "LayoutModel",
      "state": {}
     },
     "12f112e9d92946d3ae6290ed3f0edd62": {
      "model_module": "@jupyter-widgets/controls",
      "model_module_version": "2.0.0",
      "model_name": "ButtonStyleModel",
      "state": {
       "font_family": null,
       "font_size": null,
       "font_style": null,
       "font_variant": null,
       "font_weight": null,
       "text_color": null,
       "text_decoration": null
      }
     },
     "14de06eba9c644b5973a55d01e6514dd": {
      "model_module": "@jupyter-widgets/controls",
      "model_module_version": "2.0.0",
      "model_name": "ButtonStyleModel",
      "state": {
       "font_family": null,
       "font_size": null,
       "font_style": null,
       "font_variant": null,
       "font_weight": null,
       "text_color": null,
       "text_decoration": null
      }
     },
     "176157c5586141dd98654f5b4837d436": {
      "model_module": "@jupyter-widgets/base",
      "model_module_version": "2.0.0",
      "model_name": "LayoutModel",
      "state": {}
     },
     "1911d140392549c097be98e0ad711b32": {
      "model_module": "@jupyter-widgets/controls",
      "model_module_version": "2.0.0",
      "model_name": "ButtonModel",
      "state": {
       "button_style": "info",
       "description": "📁 .ipynb_checkpoints",
       "layout": "IPY_MODEL_42514f0cfff14136838ec5d859f12b27",
       "style": "IPY_MODEL_dc79caf180574cbebbf82cdbb369c0ad",
       "tooltip": null
      }
     },
     "195c856706cf4da4bbe3fcecc5b4bdc7": {
      "model_module": "@jupyter-widgets/base",
      "model_module_version": "2.0.0",
      "model_name": "LayoutModel",
      "state": {}
     },
     "1ad9fc44ad2c404c9bc004fe6d9d34fe": {
      "model_module": "@jupyter-widgets/controls",
      "model_module_version": "2.0.0",
      "model_name": "ButtonModel",
      "state": {
       "button_style": "primary",
       "description": "📄 UNRATE_MON_1948-2024.csv",
       "layout": "IPY_MODEL_d1d235f6f9934dc89423ba997bfa5678",
       "style": "IPY_MODEL_b6d979a473ab4f0790cbef182ba131eb",
       "tooltip": null
      }
     },
     "1dd1873e2039420eba46d55b0515058d": {
      "model_module": "@jupyter-widgets/controls",
      "model_module_version": "2.0.0",
      "model_name": "ButtonModel",
      "state": {
       "button_style": "info",
       "description": "📁 __pycache__",
       "layout": "IPY_MODEL_b9d5713e4dbc474f8c69118328e317fc",
       "style": "IPY_MODEL_5611ca86d449436582f600bde94df877",
       "tooltip": null
      }
     },
     "1f62e745401e4bdab274c0bdf73366f4": {
      "model_module": "@jupyter-widgets/base",
      "model_module_version": "2.0.0",
      "model_name": "LayoutModel",
      "state": {}
     },
     "21e079229587444890fee1fde654e718": {
      "model_module": "@jupyter-widgets/base",
      "model_module_version": "2.0.0",
      "model_name": "LayoutModel",
      "state": {}
     },
     "24c6efb5a48c45dab696b0a82cda6bb9": {
      "model_module": "@jupyter-widgets/controls",
      "model_module_version": "2.0.0",
      "model_name": "HTMLStyleModel",
      "state": {
       "description_width": "",
       "font_size": null,
       "text_color": null
      }
     },
     "25e599f3348d4ef88c11a34903cd544c": {
      "model_module": "@jupyter-widgets/controls",
      "model_module_version": "2.0.0",
      "model_name": "ButtonModel",
      "state": {
       "button_style": "primary",
       "description": "📄 TOTALVEHICLESALES_MON_1976-2024.csv",
       "layout": "IPY_MODEL_8f6cfd08850c45cfbebfebd3d8954465",
       "style": "IPY_MODEL_4bf1c9b1c38c4ed9b67569f780255d18",
       "tooltip": null
      }
     },
     "2744abb0259c43b3a3297f8aac39c4ba": {
      "model_module": "@jupyter-widgets/base",
      "model_module_version": "2.0.0",
      "model_name": "LayoutModel",
      "state": {}
     },
     "27af371992404087820db21fcc39c7a4": {
      "model_module": "@jupyter-widgets/base",
      "model_module_version": "2.0.0",
      "model_name": "LayoutModel",
      "state": {}
     },
     "27e6eef0a38a459abce426c5871b3b27": {
      "model_module": "@jupyter-widgets/base",
      "model_module_version": "2.0.0",
      "model_name": "LayoutModel",
      "state": {}
     },
     "29696816afe54c31a2aa02b7074a4a0f": {
      "model_module": "@jupyter-widgets/base",
      "model_module_version": "2.0.0",
      "model_name": "LayoutModel",
      "state": {}
     },
     "2ae16fac3e864df1b3ffa0078fe53b17": {
      "model_module": "@jupyter-widgets/base",
      "model_module_version": "2.0.0",
      "model_name": "LayoutModel",
      "state": {}
     },
     "2ae6d513c154433cbac81a5c6b9ad5fb": {
      "model_module": "@jupyter-widgets/controls",
      "model_module_version": "2.0.0",
      "model_name": "ButtonStyleModel",
      "state": {
       "font_family": null,
       "font_size": null,
       "font_style": null,
       "font_variant": null,
       "font_weight": null,
       "text_color": null,
       "text_decoration": null
      }
     },
     "2c4e704c84d348259b0928a8f35132d8": {
      "model_module": "@jupyter-widgets/base",
      "model_module_version": "2.0.0",
      "model_name": "LayoutModel",
      "state": {}
     },
     "2d6553fa92a7449387068ca7d119eda3": {
      "model_module": "@jupyter-widgets/controls",
      "model_module_version": "2.0.0",
      "model_name": "ButtonModel",
      "state": {
       "button_style": "primary",
       "description": "📄 C-OIL_MON$AVG-BARL_1986-2024.csv",
       "layout": "IPY_MODEL_e866826c3cc24f429f84e7949e877c92",
       "style": "IPY_MODEL_650a715831c7421d9d7b23d9bd4a44fd",
       "tooltip": null
      }
     },
     "2d8bde93bf9a443988d93526e34d7abb": {
      "model_module": "@jupyter-widgets/controls",
      "model_module_version": "2.0.0",
      "model_name": "DescriptionStyleModel",
      "state": {
       "description_width": ""
      }
     },
     "2dbf0b135285453894e3b74e0aeef846": {
      "model_module": "@jupyter-widgets/base",
      "model_module_version": "2.0.0",
      "model_name": "LayoutModel",
      "state": {}
     },
     "2df6104877bc4abfa5245934644f6276": {
      "model_module": "@jupyter-widgets/controls",
      "model_module_version": "2.0.0",
      "model_name": "ButtonStyleModel",
      "state": {
       "font_family": null,
       "font_size": null,
       "font_style": null,
       "font_variant": null,
       "font_weight": null,
       "text_color": null,
       "text_decoration": null
      }
     },
     "2df7f0ed0e924631aba7b01eb855db08": {
      "model_module": "@jupyter-widgets/controls",
      "model_module_version": "2.0.0",
      "model_name": "ButtonStyleModel",
      "state": {
       "font_family": null,
       "font_size": null,
       "font_style": null,
       "font_variant": null,
       "font_weight": null,
       "text_color": null,
       "text_decoration": null
      }
     },
     "2eb01c92e82d4415b0feab1375ac0b75": {
      "model_module": "@jupyter-widgets/controls",
      "model_module_version": "2.0.0",
      "model_name": "ButtonModel",
      "state": {
       "button_style": "primary",
       "description": "📄 large_logistic_regression_dataset.csv",
       "layout": "IPY_MODEL_8fb0d8f45f8d405ca47b1312b2db5855",
       "style": "IPY_MODEL_14de06eba9c644b5973a55d01e6514dd",
       "tooltip": null
      }
     },
     "2fb7785d9c65412d997e6aaa0e903950": {
      "model_module": "@jupyter-widgets/controls",
      "model_module_version": "2.0.0",
      "model_name": "ButtonStyleModel",
      "state": {
       "font_family": null,
       "font_size": null,
       "font_style": null,
       "font_variant": null,
       "font_weight": null,
       "text_color": null,
       "text_decoration": null
      }
     },
     "30611378354a46bd84bccc1518169649": {
      "model_module": "@jupyter-widgets/controls",
      "model_module_version": "2.0.0",
      "model_name": "ButtonModel",
      "state": {
       "button_style": "primary",
       "description": "📄 large_logistic_regression_dataset.csv",
       "layout": "IPY_MODEL_95b7196b9427494f9383c80c6146464f",
       "style": "IPY_MODEL_83e01e8191634dd88e7d61b1aea76005",
       "tooltip": null
      }
     },
     "309c6f9485c44ac38d02741180c1d48f": {
      "model_module": "@jupyter-widgets/controls",
      "model_module_version": "2.0.0",
      "model_name": "ButtonModel",
      "state": {
       "button_style": "primary",
       "description": "📄 POP_MON_1959-2024.csv",
       "layout": "IPY_MODEL_053819aa27784bd9a970b8c29562eccb",
       "style": "IPY_MODEL_f198be6073334acab796399439b24be6",
       "tooltip": null
      }
     },
     "31c131a1b5d1442ea0b2e65d74f1afe3": {
      "model_module": "@jupyter-widgets/controls",
      "model_module_version": "2.0.0",
      "model_name": "ButtonModel",
      "state": {
       "button_style": "primary",
       "description": "📄 FEDFUNDSRATE_MON_1960-2023.csv",
       "layout": "IPY_MODEL_d3651d7916b647ed8ea9eb07389bef84",
       "style": "IPY_MODEL_671734898ac6439aa04cff3d2158f6e1",
       "tooltip": null
      }
     },
     "31f38c5b7ec74b43a5abbf660380ac83": {
      "model_module": "@jupyter-widgets/output",
      "model_module_version": "1.0.0",
      "model_name": "OutputModel",
      "state": {
       "layout": "IPY_MODEL_d7c8b5efa6c748b8b0f01e556cbf1595",
       "outputs": [
        {
         "name": "stdout",
         "output_type": "stream",
         "text": "\u001b[1m\u001b[34m🔎 Confirmed Selections:\u001b[0m\n{\n    \"model\": \"Linear Regression\",\n    \"frequency\": \"Monthly\",\n    \"datasets\": [\n        {\n            \"file_name\": \"C-OIL_MON$AVG-BARL_1986-2024.csv\",\n            \"path\": \"/Users/levigagne/Desktop/JupyterLab/data/C-OIL_MON$AVG-BARL_1986-2024.csv\",\n            \"date_column\": \"observation_date\"\n        },\n        {\n            \"file_name\": \"FEDFUNDSRATE_MON_1960-2023.csv\",\n            \"path\": \"/Users/levigagne/Desktop/JupyterLab/data/FEDFUNDSRATE_MON_1960-2023.csv\",\n            \"date_column\": \"observation_date\"\n        },\n        {\n            \"file_name\": \"POP_MON_1959-2024.csv\",\n            \"path\": \"/Users/levigagne/Desktop/JupyterLab/data/POP_MON_1959-2024.csv\",\n            \"date_column\": \"observation_date\"\n        },\n        {\n            \"file_name\": \"TOTALVEHICLESALES_MON_1976-2024.csv\",\n            \"path\": \"/Users/levigagne/Desktop/JupyterLab/data/TOTALVEHICLESALES_MON_1976-2024.csv\",\n            \"date_column\": \"observation_date\"\n        },\n        {\n            \"file_name\": \"UNRATE_MON_1948-2024.csv\",\n            \"path\": \"/Users/levigagne/Desktop/JupyterLab/data/UNRATE_MON_1948-2024.csv\",\n            \"date_column\": \"observation_date\"\n        }\n    ]\n}\n"
        }
       ]
      }
     },
     "3257cb5b8a884561bc64f2a161bb482c": {
      "model_module": "@jupyter-widgets/controls",
      "model_module_version": "2.0.0",
      "model_name": "ButtonModel",
      "state": {
       "button_style": "primary",
       "description": "📄 FEDFUNDSRATE_MON_1960-2023.csv",
       "layout": "IPY_MODEL_36a8ec891a784a6497a6363da68d0667",
       "style": "IPY_MODEL_81401388bf654572bdeea97d044964d2",
       "tooltip": null
      }
     },
     "326a9dffe31149d486269324fa9ed77e": {
      "model_module": "@jupyter-widgets/controls",
      "model_module_version": "2.0.0",
      "model_name": "ButtonModel",
      "state": {
       "button_style": "primary",
       "description": "📄 logistic_regression_dataset-Social_Network_Ads.csv",
       "layout": "IPY_MODEL_458983992b62445aa2d762fb5811fb1b",
       "style": "IPY_MODEL_99add579144b4b49a139773a39c341be",
       "tooltip": null
      }
     },
     "34034f267b7f41209d6bdfd87cc0d23f": {
      "model_module": "@jupyter-widgets/controls",
      "model_module_version": "2.0.0",
      "model_name": "ButtonModel",
      "state": {
       "button_style": "primary",
       "description": "📄 mock_data_file.csv",
       "layout": "IPY_MODEL_f424e5670080426992782cb82fd3dbe5",
       "style": "IPY_MODEL_c42c83f6b2614af6b3bd19e74bab2cb9",
       "tooltip": null
      }
     },
     "3650a22ec4704bc38fb3af7f992493c6": {
      "model_module": "@jupyter-widgets/base",
      "model_module_version": "2.0.0",
      "model_name": "LayoutModel",
      "state": {}
     },
     "36a8ec891a784a6497a6363da68d0667": {
      "model_module": "@jupyter-widgets/base",
      "model_module_version": "2.0.0",
      "model_name": "LayoutModel",
      "state": {}
     },
     "3889e37e31164e618d5a57b95af00572": {
      "model_module": "@jupyter-widgets/controls",
      "model_module_version": "2.0.0",
      "model_name": "ButtonStyleModel",
      "state": {
       "font_family": null,
       "font_size": null,
       "font_style": null,
       "font_variant": null,
       "font_weight": null,
       "text_color": null,
       "text_decoration": null
      }
     },
     "393cdb6767494f0c81994b745a904713": {
      "model_module": "@jupyter-widgets/controls",
      "model_module_version": "2.0.0",
      "model_name": "DropdownModel",
      "state": {
       "_options_labels": [
        "observation_date",
        "TOTALSA"
       ],
       "description": "TOTALVEHICLESALES_MON_1976-2024.csv:",
       "index": 0,
       "layout": "IPY_MODEL_946c8ad574d648128993983bb2cb5842",
       "style": "IPY_MODEL_dbafec0749d44f179cc95898a59c8cf7"
      }
     },
     "396e6cfc3bb64905a6407bed15b90851": {
      "model_module": "@jupyter-widgets/controls",
      "model_module_version": "2.0.0",
      "model_name": "ButtonStyleModel",
      "state": {
       "font_family": null,
       "font_size": null,
       "font_style": null,
       "font_variant": null,
       "font_weight": null,
       "text_color": null,
       "text_decoration": null
      }
     },
     "3c04e39d0ec34c6d97fca6ccb8c4d5d6": {
      "model_module": "@jupyter-widgets/base",
      "model_module_version": "2.0.0",
      "model_name": "LayoutModel",
      "state": {}
     },
     "3c4f57baab27487f8bd3e13c53c88bfb": {
      "model_module": "@jupyter-widgets/controls",
      "model_module_version": "2.0.0",
      "model_name": "ButtonStyleModel",
      "state": {
       "font_family": null,
       "font_size": null,
       "font_style": null,
       "font_variant": null,
       "font_weight": null,
       "text_color": null,
       "text_decoration": null
      }
     },
     "3e3df9ee0ed04e92b3b8727ea2dd377b": {
      "model_module": "@jupyter-widgets/base",
      "model_module_version": "2.0.0",
      "model_name": "LayoutModel",
      "state": {}
     },
     "3ecedb97f7814ce48265edf3e396baf7": {
      "model_module": "@jupyter-widgets/base",
      "model_module_version": "2.0.0",
      "model_name": "LayoutModel",
      "state": {}
     },
     "3ee1533583c74de390803017fd9c14c0": {
      "model_module": "@jupyter-widgets/controls",
      "model_module_version": "2.0.0",
      "model_name": "HTMLStyleModel",
      "state": {
       "description_width": "",
       "font_size": null,
       "text_color": null
      }
     },
     "404e3c9c71414d4b90e3758890812022": {
      "model_module": "@jupyter-widgets/base",
      "model_module_version": "2.0.0",
      "model_name": "LayoutModel",
      "state": {}
     },
     "4115c5a59c984400aebdb5762854ccd7": {
      "model_module": "@jupyter-widgets/base",
      "model_module_version": "2.0.0",
      "model_name": "LayoutModel",
      "state": {}
     },
     "413ded2569ec4499850be7491c1889de": {
      "model_module": "@jupyter-widgets/controls",
      "model_module_version": "2.0.0",
      "model_name": "ButtonModel",
      "state": {
       "button_style": "info",
       "description": "📁 .ipynb_checkpoints",
       "layout": "IPY_MODEL_0bd0b6dbcad94425ada7e52a4c722162",
       "style": "IPY_MODEL_666d47d861f74847aaee23cdfcba4ca8",
       "tooltip": null
      }
     },
     "415ce5b09e0d40fdb3a95cbcdf36db94": {
      "model_module": "@jupyter-widgets/controls",
      "model_module_version": "2.0.0",
      "model_name": "ButtonModel",
      "state": {
       "button_style": "info",
       "description": "📁 .ipynb_checkpoints",
       "layout": "IPY_MODEL_67cda570cb33457b9eeed8d6dde02f97",
       "style": "IPY_MODEL_4330be74c1ea48a086cd64f5852186a3",
       "tooltip": null
      }
     },
     "42514f0cfff14136838ec5d859f12b27": {
      "model_module": "@jupyter-widgets/base",
      "model_module_version": "2.0.0",
      "model_name": "LayoutModel",
      "state": {}
     },
     "4330be74c1ea48a086cd64f5852186a3": {
      "model_module": "@jupyter-widgets/controls",
      "model_module_version": "2.0.0",
      "model_name": "ButtonStyleModel",
      "state": {
       "font_family": null,
       "font_size": null,
       "font_style": null,
       "font_variant": null,
       "font_weight": null,
       "text_color": null,
       "text_decoration": null
      }
     },
     "44746846114c404592702bd3fcfc20f7": {
      "model_module": "@jupyter-widgets/base",
      "model_module_version": "2.0.0",
      "model_name": "LayoutModel",
      "state": {}
     },
     "456093a9cbbc4effbfc5bb1afa48fc1d": {
      "model_module": "@jupyter-widgets/base",
      "model_module_version": "2.0.0",
      "model_name": "LayoutModel",
      "state": {}
     },
     "458983992b62445aa2d762fb5811fb1b": {
      "model_module": "@jupyter-widgets/base",
      "model_module_version": "2.0.0",
      "model_name": "LayoutModel",
      "state": {}
     },
     "465c1f153f6e4b48ac754209d3cbba6d": {
      "model_module": "@jupyter-widgets/controls",
      "model_module_version": "2.0.0",
      "model_name": "ButtonStyleModel",
      "state": {
       "font_family": null,
       "font_size": null,
       "font_style": null,
       "font_variant": null,
       "font_weight": null,
       "text_color": null,
       "text_decoration": null
      }
     },
     "49468567907045649c4d80f12fe57253": {
      "model_module": "@jupyter-widgets/controls",
      "model_module_version": "2.0.0",
      "model_name": "ButtonStyleModel",
      "state": {
       "font_family": null,
       "font_size": null,
       "font_style": null,
       "font_variant": null,
       "font_weight": null,
       "text_color": null,
       "text_decoration": null
      }
     },
     "4bf1c9b1c38c4ed9b67569f780255d18": {
      "model_module": "@jupyter-widgets/controls",
      "model_module_version": "2.0.0",
      "model_name": "ButtonStyleModel",
      "state": {
       "font_family": null,
       "font_size": null,
       "font_style": null,
       "font_variant": null,
       "font_weight": null,
       "text_color": null,
       "text_decoration": null
      }
     },
     "4c6ec1f29f6a40cba3a9e541bc24dbe1": {
      "model_module": "@jupyter-widgets/base",
      "model_module_version": "2.0.0",
      "model_name": "LayoutModel",
      "state": {}
     },
     "4d6b3b85ab114b8692aaed6437b99e07": {
      "model_module": "@jupyter-widgets/base",
      "model_module_version": "2.0.0",
      "model_name": "LayoutModel",
      "state": {}
     },
     "4ef2b20c1b0648e292b4801c9f0aa6ae": {
      "model_module": "@jupyter-widgets/base",
      "model_module_version": "2.0.0",
      "model_name": "LayoutModel",
      "state": {}
     },
     "4fad3304820d45c687fc6a548846d42c": {
      "model_module": "@jupyter-widgets/controls",
      "model_module_version": "2.0.0",
      "model_name": "ButtonModel",
      "state": {
       "button_style": "primary",
       "description": "📄 logistic_regression_dataset-Social_Network_Ads.csv",
       "layout": "IPY_MODEL_27e6eef0a38a459abce426c5871b3b27",
       "style": "IPY_MODEL_3c4f57baab27487f8bd3e13c53c88bfb",
       "tooltip": null
      }
     },
     "50129d579f0b459fb54ff20030e2d58b": {
      "model_module": "@jupyter-widgets/base",
      "model_module_version": "2.0.0",
      "model_name": "LayoutModel",
      "state": {}
     },
     "518857f73e82405ab172c28fefe89d85": {
      "model_module": "@jupyter-widgets/output",
      "model_module_version": "1.0.0",
      "model_name": "OutputModel",
      "state": {
       "layout": "IPY_MODEL_890a6f07bc0c46d2854483cf429fbe79"
      }
     },
     "536d33d37ae441cfaf81e3ddc8a45169": {
      "model_module": "@jupyter-widgets/controls",
      "model_module_version": "2.0.0",
      "model_name": "ButtonStyleModel",
      "state": {
       "font_family": null,
       "font_size": null,
       "font_style": null,
       "font_variant": null,
       "font_weight": null,
       "text_color": null,
       "text_decoration": null
      }
     },
     "55181a218e7a4591a288a5a1be94c013": {
      "model_module": "@jupyter-widgets/controls",
      "model_module_version": "2.0.0",
      "model_name": "HTMLModel",
      "state": {
       "layout": "IPY_MODEL_ee342a349a124617a27381965cbbc148",
       "style": "IPY_MODEL_24c6efb5a48c45dab696b0a82cda6bb9",
       "value": "<b style='color:#FF4500;'>Y Variable: POPTHM</b>"
      }
     },
     "5600890c2c5445009bbe1d2a94d317e5": {
      "model_module": "@jupyter-widgets/controls",
      "model_module_version": "2.0.0",
      "model_name": "HTMLModel",
      "state": {
       "layout": "IPY_MODEL_59f4427c828749ab858cc24441a6ce55",
       "style": "IPY_MODEL_869a4dfb820e435eb1d9ec1694785cac",
       "value": "<b>The data exists in this range: </b><span style='color:#FF69B4;'>1986-01-01</span> <b>to</b> <span style='color:#FF69B4;'>2023-12-01</span>"
      }
     },
     "5611ca86d449436582f600bde94df877": {
      "model_module": "@jupyter-widgets/controls",
      "model_module_version": "2.0.0",
      "model_name": "ButtonStyleModel",
      "state": {
       "font_family": null,
       "font_size": null,
       "font_style": null,
       "font_variant": null,
       "font_weight": null,
       "text_color": null,
       "text_decoration": null
      }
     },
     "5695a83d46f64439add4637c8598315b": {
      "model_module": "@jupyter-widgets/controls",
      "model_module_version": "2.0.0",
      "model_name": "ButtonModel",
      "state": {
       "button_style": "primary",
       "description": "📄 UNRATE_MON_1948-2024.csv",
       "layout": "IPY_MODEL_00b8eb0b5239476a835b9c8842e23d9f",
       "style": "IPY_MODEL_57beec8705c84ff6815480c4a1f772e5",
       "tooltip": null
      }
     },
     "56be04e9b5c34a389ddbf4679be85449": {
      "model_module": "@jupyter-widgets/base",
      "model_module_version": "2.0.0",
      "model_name": "LayoutModel",
      "state": {}
     },
     "570405cb6c1b4715903b50c4eea75241": {
      "model_module": "@jupyter-widgets/controls",
      "model_module_version": "2.0.0",
      "model_name": "ButtonStyleModel",
      "state": {
       "font_family": null,
       "font_size": null,
       "font_style": null,
       "font_variant": null,
       "font_weight": null,
       "text_color": null,
       "text_decoration": null
      }
     },
     "57beec8705c84ff6815480c4a1f772e5": {
      "model_module": "@jupyter-widgets/controls",
      "model_module_version": "2.0.0",
      "model_name": "ButtonStyleModel",
      "state": {
       "font_family": null,
       "font_size": null,
       "font_style": null,
       "font_variant": null,
       "font_weight": null,
       "text_color": null,
       "text_decoration": null
      }
     },
     "58acba894b3f4243abe886ea26977a23": {
      "model_module": "@jupyter-widgets/controls",
      "model_module_version": "2.0.0",
      "model_name": "ButtonModel",
      "state": {
       "button_style": "primary",
       "description": "📄 logistic_regression_dataset-Social_Network_Ads.csv",
       "layout": "IPY_MODEL_f83a62e28a1c47dbbcfcbe000950d6bb",
       "style": "IPY_MODEL_e560fffa93e64b2d83f8ed31ec465866",
       "tooltip": null
      }
     },
     "59f4427c828749ab858cc24441a6ce55": {
      "model_module": "@jupyter-widgets/base",
      "model_module_version": "2.0.0",
      "model_name": "LayoutModel",
      "state": {}
     },
     "5b57f7d80b8c4b0db2e971ac6a0d133f": {
      "model_module": "@jupyter-widgets/base",
      "model_module_version": "2.0.0",
      "model_name": "LayoutModel",
      "state": {}
     },
     "5b5d87dcb0974e9a9a4a17c6733b2f17": {
      "model_module": "@jupyter-widgets/controls",
      "model_module_version": "2.0.0",
      "model_name": "DropdownModel",
      "state": {
       "_options_labels": [
        "observation_date",
        "IRSTFR01USM156N"
       ],
       "description": "FEDFUNDSRATE_MON_1960-2023.csv:",
       "index": 0,
       "layout": "IPY_MODEL_025ca363c3e7409dbcdc4a6b815d1431",
       "style": "IPY_MODEL_61b62d767a684ad5bd1d4905b1f3f88f"
      }
     },
     "5b66a6bb9ec54390ae85c241903fcd27": {
      "model_module": "@jupyter-widgets/base",
      "model_module_version": "2.0.0",
      "model_name": "LayoutModel",
      "state": {}
     },
     "5b8359a6ab71468ba6e1264c5fe3164f": {
      "model_module": "@jupyter-widgets/controls",
      "model_module_version": "2.0.0",
      "model_name": "ButtonModel",
      "state": {
       "button_style": "primary",
       "description": "📄 C-OIL_MON$AVG-BARL_1986-2024.csv",
       "layout": "IPY_MODEL_aed2559af8bf476388ef681a9de7958e",
       "style": "IPY_MODEL_a48f3960555849f9bba07997018dae2f",
       "tooltip": null
      }
     },
     "5cb7b31e0eed4ad89e9ce08826bd0e2d": {
      "model_module": "@jupyter-widgets/base",
      "model_module_version": "2.0.0",
      "model_name": "LayoutModel",
      "state": {}
     },
     "5d55eafbb0e84760b9a07632f70d9f8c": {
      "model_module": "@jupyter-widgets/controls",
      "model_module_version": "2.0.0",
      "model_name": "ButtonStyleModel",
      "state": {
       "font_family": null,
       "font_size": null,
       "font_style": null,
       "font_variant": null,
       "font_weight": null,
       "text_color": null,
       "text_decoration": null
      }
     },
     "5d9b8e75fff748f0818aa25083c1065d": {
      "model_module": "@jupyter-widgets/base",
      "model_module_version": "2.0.0",
      "model_name": "LayoutModel",
      "state": {}
     },
     "5eac31089df240f884df4c438d0062ec": {
      "model_module": "@jupyter-widgets/controls",
      "model_module_version": "2.0.0",
      "model_name": "ButtonModel",
      "state": {
       "button_style": "primary",
       "description": "📄 POP_MON_1959-2024.csv",
       "layout": "IPY_MODEL_631d9778db36435c8d3d9afd7948de0a",
       "style": "IPY_MODEL_a6298e30152040a0bfa6ddc61b8430c7",
       "tooltip": null
      }
     },
     "603beac6c01c4b9cabc34cdc7d961203": {
      "model_module": "@jupyter-widgets/controls",
      "model_module_version": "2.0.0",
      "model_name": "ButtonModel",
      "state": {
       "button_style": "primary",
       "description": "📄 POP_MON_1959-2024.csv",
       "layout": "IPY_MODEL_3ecedb97f7814ce48265edf3e396baf7",
       "style": "IPY_MODEL_980cf13dcad647bb9c6a1ec415c18fc1",
       "tooltip": null
      }
     },
     "6045941eb96e4fb98e357a6cbdfbd629": {
      "model_module": "@jupyter-widgets/base",
      "model_module_version": "2.0.0",
      "model_name": "LayoutModel",
      "state": {}
     },
     "61b62d767a684ad5bd1d4905b1f3f88f": {
      "model_module": "@jupyter-widgets/controls",
      "model_module_version": "2.0.0",
      "model_name": "DescriptionStyleModel",
      "state": {
       "description_width": ""
      }
     },
     "62e10681c6d44e9499872ed4643ddb1a": {
      "model_module": "@jupyter-widgets/controls",
      "model_module_version": "2.0.0",
      "model_name": "ButtonStyleModel",
      "state": {
       "font_family": null,
       "font_size": null,
       "font_style": null,
       "font_variant": null,
       "font_weight": null,
       "text_color": null,
       "text_decoration": null
      }
     },
     "631d9778db36435c8d3d9afd7948de0a": {
      "model_module": "@jupyter-widgets/base",
      "model_module_version": "2.0.0",
      "model_name": "LayoutModel",
      "state": {}
     },
     "644aca1c034e418594cfdacb6c95118b": {
      "model_module": "@jupyter-widgets/controls",
      "model_module_version": "2.0.0",
      "model_name": "ButtonModel",
      "state": {
       "button_style": "primary",
       "description": "📄 large_logistic_regression_dataset.csv",
       "layout": "IPY_MODEL_b4fc636caec84fbda11b187ad2477e3c",
       "style": "IPY_MODEL_c4d4f35533fa4cc0bb8695f35b1b9166",
       "tooltip": null
      }
     },
     "650a715831c7421d9d7b23d9bd4a44fd": {
      "model_module": "@jupyter-widgets/controls",
      "model_module_version": "2.0.0",
      "model_name": "ButtonStyleModel",
      "state": {
       "font_family": null,
       "font_size": null,
       "font_style": null,
       "font_variant": null,
       "font_weight": null,
       "text_color": null,
       "text_decoration": null
      }
     },
     "666d47d861f74847aaee23cdfcba4ca8": {
      "model_module": "@jupyter-widgets/controls",
      "model_module_version": "2.0.0",
      "model_name": "ButtonStyleModel",
      "state": {
       "font_family": null,
       "font_size": null,
       "font_style": null,
       "font_variant": null,
       "font_weight": null,
       "text_color": null,
       "text_decoration": null
      }
     },
     "6698e8713725445fbce104088fae0c04": {
      "model_module": "@jupyter-widgets/controls",
      "model_module_version": "2.0.0",
      "model_name": "DescriptionStyleModel",
      "state": {
       "description_width": ""
      }
     },
     "671734898ac6439aa04cff3d2158f6e1": {
      "model_module": "@jupyter-widgets/controls",
      "model_module_version": "2.0.0",
      "model_name": "ButtonStyleModel",
      "state": {
       "font_family": null,
       "font_size": null,
       "font_style": null,
       "font_variant": null,
       "font_weight": null,
       "text_color": null,
       "text_decoration": null
      }
     },
     "67cda570cb33457b9eeed8d6dde02f97": {
      "model_module": "@jupyter-widgets/base",
      "model_module_version": "2.0.0",
      "model_name": "LayoutModel",
      "state": {}
     },
     "685302b7e4a045aa975a70de46d36fc9": {
      "model_module": "@jupyter-widgets/controls",
      "model_module_version": "2.0.0",
      "model_name": "ButtonModel",
      "state": {
       "button_style": "primary",
       "description": "📄 FEDFUNDSRATE_MON_1960-2023.csv",
       "layout": "IPY_MODEL_456093a9cbbc4effbfc5bb1afa48fc1d",
       "style": "IPY_MODEL_0f5cda6da255491ab942dd61f4a0710d",
       "tooltip": null
      }
     },
     "69017f3a4d87459e8b5740369a934c3d": {
      "model_module": "@jupyter-widgets/base",
      "model_module_version": "2.0.0",
      "model_name": "LayoutModel",
      "state": {}
     },
     "69225d7d24524784a8018d24fdd944a6": {
      "model_module": "@jupyter-widgets/base",
      "model_module_version": "2.0.0",
      "model_name": "LayoutModel",
      "state": {}
     },
     "6ae42469ee574d74804edc5dc252311c": {
      "model_module": "@jupyter-widgets/controls",
      "model_module_version": "2.0.0",
      "model_name": "ButtonModel",
      "state": {
       "button_style": "primary",
       "description": "📄 mock_data_file.csv",
       "layout": "IPY_MODEL_b36b6d58697a43858bbef383082e8361",
       "style": "IPY_MODEL_efec12e44fa1453c8b2ac06b1209b35d",
       "tooltip": null
      }
     },
     "6b1bff30c7e54ed3b305a58934351430": {
      "model_module": "@jupyter-widgets/controls",
      "model_module_version": "2.0.0",
      "model_name": "ButtonModel",
      "state": {
       "button_style": "primary",
       "description": "📄 UNRATE_MON_1948-2024.csv",
       "layout": "IPY_MODEL_6bbf4291103b4e02bece904369708307",
       "style": "IPY_MODEL_ee1b513abd1f42188bad730edae51f74",
       "tooltip": null
      }
     },
     "6b98b01d9ec64af099b8c0bb5004e825": {
      "model_module": "@jupyter-widgets/controls",
      "model_module_version": "2.0.0",
      "model_name": "ButtonModel",
      "state": {
       "button_style": "primary",
       "description": "📄 FEDFUNDSRATE_MON_1960-2023.csv",
       "layout": "IPY_MODEL_eab49046e4b04d52b15ee9996d86d322",
       "style": "IPY_MODEL_868c2e1252004ca5ada345b079090671",
       "tooltip": null
      }
     },
     "6b9c0cf325ea446a9a85d35f937106e7": {
      "model_module": "@jupyter-widgets/controls",
      "model_module_version": "2.0.0",
      "model_name": "ButtonModel",
      "state": {
       "button_style": "primary",
       "description": "📄 POP_MON_1959-2024.csv",
       "layout": "IPY_MODEL_ddff752736d84101a68b9f7cc626fbed",
       "style": "IPY_MODEL_5d55eafbb0e84760b9a07632f70d9f8c",
       "tooltip": null
      }
     },
     "6bbf4291103b4e02bece904369708307": {
      "model_module": "@jupyter-widgets/base",
      "model_module_version": "2.0.0",
      "model_name": "LayoutModel",
      "state": {}
     },
     "6bcba36aa18742a49768bbb7eb806399": {
      "model_module": "@jupyter-widgets/controls",
      "model_module_version": "2.0.0",
      "model_name": "DescriptionStyleModel",
      "state": {
       "description_width": ""
      }
     },
     "6e41240aacec4c518d05df6ac95b1566": {
      "model_module": "@jupyter-widgets/base",
      "model_module_version": "2.0.0",
      "model_name": "LayoutModel",
      "state": {}
     },
     "715e468c6f7946e7bb4629b5ed0010f3": {
      "model_module": "@jupyter-widgets/base",
      "model_module_version": "2.0.0",
      "model_name": "LayoutModel",
      "state": {}
     },
     "71632265f3184a1e98bd1242036a4b96": {
      "model_module": "@jupyter-widgets/base",
      "model_module_version": "2.0.0",
      "model_name": "LayoutModel",
      "state": {}
     },
     "71c0d4d05f6f4454825fad023b41c855": {
      "model_module": "@jupyter-widgets/controls",
      "model_module_version": "2.0.0",
      "model_name": "ButtonModel",
      "state": {
       "button_style": "info",
       "description": "📁 etl_app",
       "layout": "IPY_MODEL_fd4111d97327432a8a45716f062c9f90",
       "style": "IPY_MODEL_49468567907045649c4d80f12fe57253",
       "tooltip": null
      }
     },
     "72572a467bd94333876a11be81f3b5d5": {
      "model_module": "@jupyter-widgets/controls",
      "model_module_version": "2.0.0",
      "model_name": "DescriptionStyleModel",
      "state": {
       "description_width": ""
      }
     },
     "72ed2014ac0c40a5955c5543a98c9b52": {
      "model_module": "@jupyter-widgets/controls",
      "model_module_version": "2.0.0",
      "model_name": "ButtonStyleModel",
      "state": {
       "font_family": null,
       "font_size": null,
       "font_style": null,
       "font_variant": null,
       "font_weight": null,
       "text_color": null,
       "text_decoration": null
      }
     },
     "739f0ac1a86244e887da722805725a81": {
      "model_module": "@jupyter-widgets/controls",
      "model_module_version": "2.0.0",
      "model_name": "DropdownModel",
      "state": {
       "_options_labels": [
        "observation_date",
        "DCOILWTICO"
       ],
       "description": "C-OIL_MON$AVG-BARL_1986-2024.csv:",
       "index": 0,
       "layout": "IPY_MODEL_4d6b3b85ab114b8692aaed6437b99e07",
       "style": "IPY_MODEL_0078b2e252a34145b2046f3e572ef7c1"
      }
     },
     "73be6609655a4b1bb6f72a167e0d2ab0": {
      "model_module": "@jupyter-widgets/controls",
      "model_module_version": "2.0.0",
      "model_name": "ButtonStyleModel",
      "state": {
       "font_family": null,
       "font_size": null,
       "font_style": null,
       "font_variant": null,
       "font_weight": null,
       "text_color": null,
       "text_decoration": null
      }
     },
     "760c5e15e8244405a93a06e26166202c": {
      "model_module": "@jupyter-widgets/controls",
      "model_module_version": "2.0.0",
      "model_name": "ButtonModel",
      "state": {
       "button_style": "primary",
       "description": "📄 lasso_dataset.csv",
       "layout": "IPY_MODEL_a24a39ee031e4432a9ef71a6374c9fee",
       "style": "IPY_MODEL_2df7f0ed0e924631aba7b01eb855db08",
       "tooltip": null
      }
     },
     "78a3256b47784e2083df115c289a188b": {
      "model_module": "@jupyter-widgets/controls",
      "model_module_version": "2.0.0",
      "model_name": "HTMLModel",
      "state": {
       "layout": "IPY_MODEL_6e41240aacec4c518d05df6ac95b1566",
       "style": "IPY_MODEL_d66979a5e52a43369f69fb2f5346cf81",
       "value": "<b style='color:#1E90FF;'>X Variables: DCOILWTICO, IRSTFR01USM156N, TOTALSA, UNRATE</b>"
      }
     },
     "79ace8ab375c4b83b41fc81195f25603": {
      "model_module": "@jupyter-widgets/base",
      "model_module_version": "2.0.0",
      "model_name": "LayoutModel",
      "state": {}
     },
     "7a867fe8467346ffb9ef3aebaea1e896": {
      "model_module": "@jupyter-widgets/base",
      "model_module_version": "2.0.0",
      "model_name": "LayoutModel",
      "state": {}
     },
     "7ab3d924cfca4daba316574cba17024e": {
      "model_module": "@jupyter-widgets/base",
      "model_module_version": "2.0.0",
      "model_name": "LayoutModel",
      "state": {}
     },
     "7cf3480977a54168883bc0eaff48a083": {
      "model_module": "@jupyter-widgets/controls",
      "model_module_version": "2.0.0",
      "model_name": "HTMLStyleModel",
      "state": {
       "description_width": "",
       "font_size": null,
       "text_color": null
      }
     },
     "7e562bafdfe34169b5627680f08a508e": {
      "model_module": "@jupyter-widgets/base",
      "model_module_version": "2.0.0",
      "model_name": "LayoutModel",
      "state": {}
     },
     "81401388bf654572bdeea97d044964d2": {
      "model_module": "@jupyter-widgets/controls",
      "model_module_version": "2.0.0",
      "model_name": "ButtonStyleModel",
      "state": {
       "font_family": null,
       "font_size": null,
       "font_style": null,
       "font_variant": null,
       "font_weight": null,
       "text_color": null,
       "text_decoration": null
      }
     },
     "83e01e8191634dd88e7d61b1aea76005": {
      "model_module": "@jupyter-widgets/controls",
      "model_module_version": "2.0.0",
      "model_name": "ButtonStyleModel",
      "state": {
       "font_family": null,
       "font_size": null,
       "font_style": null,
       "font_variant": null,
       "font_weight": null,
       "text_color": null,
       "text_decoration": null
      }
     },
     "842963e2f38d4c37903526b4e851180c": {
      "model_module": "@jupyter-widgets/controls",
      "model_module_version": "2.0.0",
      "model_name": "ButtonModel",
      "state": {
       "button_style": "info",
       "description": "📁 etl-scripts",
       "layout": "IPY_MODEL_195c856706cf4da4bbe3fcecc5b4bdc7",
       "style": "IPY_MODEL_0e219774f53e416fb071e31300fc5d0d",
       "tooltip": null
      }
     },
     "84be8028342846aeab0b8dbe89155fbc": {
      "model_module": "@jupyter-widgets/controls",
      "model_module_version": "2.0.0",
      "model_name": "ButtonStyleModel",
      "state": {
       "font_family": null,
       "font_size": null,
       "font_style": null,
       "font_variant": null,
       "font_weight": null,
       "text_color": null,
       "text_decoration": null
      }
     },
     "84f16142c22c47fca4150e6bd0f87b39": {
      "model_module": "@jupyter-widgets/controls",
      "model_module_version": "2.0.0",
      "model_name": "DescriptionStyleModel",
      "state": {
       "description_width": ""
      }
     },
     "85184a475a2a4c36950ca212a707c8e1": {
      "model_module": "@jupyter-widgets/controls",
      "model_module_version": "2.0.0",
      "model_name": "ButtonModel",
      "state": {
       "button_style": "primary",
       "description": "📄 FEDFUNDSRATE_MON_1960-2023.csv",
       "layout": "IPY_MODEL_5b57f7d80b8c4b0db2e971ac6a0d133f",
       "style": "IPY_MODEL_84be8028342846aeab0b8dbe89155fbc",
       "tooltip": null
      }
     },
     "868c2e1252004ca5ada345b079090671": {
      "model_module": "@jupyter-widgets/controls",
      "model_module_version": "2.0.0",
      "model_name": "ButtonStyleModel",
      "state": {
       "font_family": null,
       "font_size": null,
       "font_style": null,
       "font_variant": null,
       "font_weight": null,
       "text_color": null,
       "text_decoration": null
      }
     },
     "869a4dfb820e435eb1d9ec1694785cac": {
      "model_module": "@jupyter-widgets/controls",
      "model_module_version": "2.0.0",
      "model_name": "HTMLStyleModel",
      "state": {
       "description_width": "",
       "font_size": null,
       "text_color": null
      }
     },
     "86cbafdeec9d4f70a0dbe04d7904ecca": {
      "model_module": "@jupyter-widgets/controls",
      "model_module_version": "2.0.0",
      "model_name": "ButtonModel",
      "state": {
       "button_style": "success",
       "description": "Submit Selections",
       "layout": "IPY_MODEL_9cd033da9b1c49bbb85998d6623ad65d",
       "style": "IPY_MODEL_72ed2014ac0c40a5955c5543a98c9b52",
       "tooltip": null
      }
     },
     "8723ede91ce343b4bbab26feb47d9e53": {
      "model_module": "@jupyter-widgets/controls",
      "model_module_version": "2.0.0",
      "model_name": "HTMLModel",
      "state": {
       "layout": "IPY_MODEL_e4a0a93966e64b1b978aaf488c9ca107",
       "style": "IPY_MODEL_09cfeb2a6d084f74b569b44fa7c2f7ec",
       "value": "\n            <b style='color:#228B22;'>Rules for Random Forest Regression:</b>\n            <ul>\n                <li><b>Y Variable (Target):</b> Must be <span style='color:#32CD32;'>continuous</span>.</li>\n                <li><b>X Variables (Features):</b> Can be <span style='color:#1E90FF;'>continuous</span> or <span style='color:#FF8C00;'>categorical</span>.</li>\n                <li><b>Number of Trees (n_estimators):</b> Set the number of trees, typically between <span style='color:#FFD700;'>10 to 500</span>.</li>\n            </ul>\n            "
      }
     },
     "877891bfcfa042b9bec409cb8adca0a0": {
      "model_module": "@jupyter-widgets/controls",
      "model_module_version": "2.0.0",
      "model_name": "ButtonModel",
      "state": {
       "button_style": "primary",
       "description": "📄 large_logistic_regression_dataset.csv",
       "layout": "IPY_MODEL_50129d579f0b459fb54ff20030e2d58b",
       "style": "IPY_MODEL_2df6104877bc4abfa5245934644f6276",
       "tooltip": null
      }
     },
     "886404081915460c8d46e58c973982df": {
      "model_module": "@jupyter-widgets/controls",
      "model_module_version": "2.0.0",
      "model_name": "ButtonModel",
      "state": {
       "button_style": "info",
       "description": "📁 .ipynb_checkpoints",
       "layout": "IPY_MODEL_0b731259cf814ad998a7ed6c89cbe5a0",
       "style": "IPY_MODEL_cc8a5f8be4f342d8b60f27eed8d3d121",
       "tooltip": null
      }
     },
     "88b6ede776d74f1c9a4ebdde43346115": {
      "model_module": "@jupyter-widgets/controls",
      "model_module_version": "2.0.0",
      "model_name": "ButtonModel",
      "state": {
       "button_style": "primary",
       "description": "📄 logistic_regression_dataset-Social_Network_Ads.csv",
       "layout": "IPY_MODEL_89dbbac9f25f4e77b3209c23e4a146b1",
       "style": "IPY_MODEL_b796e6a03ec049cd89c095d01d391a20",
       "tooltip": null
      }
     },
     "88eae003275d41a4b308459526576233": {
      "model_module": "@jupyter-widgets/controls",
      "model_module_version": "2.0.0",
      "model_name": "ButtonModel",
      "state": {
       "button_style": "primary",
       "description": "📄 UNRATE_MON_1948-2024.csv",
       "layout": "IPY_MODEL_176157c5586141dd98654f5b4837d436",
       "style": "IPY_MODEL_c6a5debf1f6a42b9bf3cf24c6be2a7fa",
       "tooltip": null
      }
     },
     "890a6f07bc0c46d2854483cf429fbe79": {
      "model_module": "@jupyter-widgets/base",
      "model_module_version": "2.0.0",
      "model_name": "LayoutModel",
      "state": {}
     },
     "89dbbac9f25f4e77b3209c23e4a146b1": {
      "model_module": "@jupyter-widgets/base",
      "model_module_version": "2.0.0",
      "model_name": "LayoutModel",
      "state": {}
     },
     "8c5d9024968a43f183d2d3a04eb42a57": {
      "model_module": "@jupyter-widgets/controls",
      "model_module_version": "2.0.0",
      "model_name": "ButtonStyleModel",
      "state": {
       "font_family": null,
       "font_size": null,
       "font_style": null,
       "font_variant": null,
       "font_weight": null,
       "text_color": null,
       "text_decoration": null
      }
     },
     "8d2a0fabe2854a78946ca6be144d00a0": {
      "model_module": "@jupyter-widgets/controls",
      "model_module_version": "2.0.0",
      "model_name": "HTMLStyleModel",
      "state": {
       "description_width": "",
       "font_size": null,
       "text_color": null
      }
     },
     "8d4a54e4437247f8a0f05ca37e68ab18": {
      "model_module": "@jupyter-widgets/controls",
      "model_module_version": "2.0.0",
      "model_name": "ButtonStyleModel",
      "state": {
       "font_family": null,
       "font_size": null,
       "font_style": null,
       "font_variant": null,
       "font_weight": null,
       "text_color": null,
       "text_decoration": null
      }
     },
     "8e0ed21a9fe74d639cabc0a70edaff68": {
      "model_module": "@jupyter-widgets/controls",
      "model_module_version": "2.0.0",
      "model_name": "ButtonModel",
      "state": {
       "button_style": "primary",
       "description": "📄 POP_MON_1959-2024.csv",
       "layout": "IPY_MODEL_ca40923df9de45798e2da14ccbfe5739",
       "style": "IPY_MODEL_8f71cf1a70244bbb8480136dbad0005b",
       "tooltip": null
      }
     },
     "8eaef2d8dccd42918a877ddb38d4028a": {
      "model_module": "@jupyter-widgets/controls",
      "model_module_version": "2.0.0",
      "model_name": "ButtonModel",
      "state": {
       "button_style": "primary",
       "description": "📄 TOTALVEHICLESALES_MON_1976-2024.csv",
       "layout": "IPY_MODEL_5cb7b31e0eed4ad89e9ce08826bd0e2d",
       "style": "IPY_MODEL_c01817f135ff4d02aa39c35de2467e8d",
       "tooltip": null
      }
     },
     "8eed3561846f4efdad51dd2199fc0190": {
      "model_module": "@jupyter-widgets/controls",
      "model_module_version": "2.0.0",
      "model_name": "ButtonModel",
      "state": {
       "button_style": "info",
       "description": "📁 .ipynb_checkpoints",
       "layout": "IPY_MODEL_404e3c9c71414d4b90e3758890812022",
       "style": "IPY_MODEL_570405cb6c1b4715903b50c4eea75241",
       "tooltip": null
      }
     },
     "8f44b7149c9a4016ae4568bff112d830": {
      "model_module": "@jupyter-widgets/base",
      "model_module_version": "2.0.0",
      "model_name": "LayoutModel",
      "state": {}
     },
     "8f6cfd08850c45cfbebfebd3d8954465": {
      "model_module": "@jupyter-widgets/base",
      "model_module_version": "2.0.0",
      "model_name": "LayoutModel",
      "state": {}
     },
     "8f71cf1a70244bbb8480136dbad0005b": {
      "model_module": "@jupyter-widgets/controls",
      "model_module_version": "2.0.0",
      "model_name": "ButtonStyleModel",
      "state": {
       "font_family": null,
       "font_size": null,
       "font_style": null,
       "font_variant": null,
       "font_weight": null,
       "text_color": null,
       "text_decoration": null
      }
     },
     "8fb0d8f45f8d405ca47b1312b2db5855": {
      "model_module": "@jupyter-widgets/base",
      "model_module_version": "2.0.0",
      "model_name": "LayoutModel",
      "state": {}
     },
     "8fb9529d62dd48f1805bf0766b5950c5": {
      "model_module": "@jupyter-widgets/controls",
      "model_module_version": "2.0.0",
      "model_name": "DropdownModel",
      "state": {
       "_options_labels": [
        "Linear Regression",
        "Logistic Regression",
        "ARIMA",
        "Probit Model",
        "Lasso Regression",
        "Random Forest Classification",
        "Random Forest Regression"
       ],
       "description": "Model:",
       "index": 0,
       "layout": "IPY_MODEL_715e468c6f7946e7bb4629b5ed0010f3",
       "style": "IPY_MODEL_a5388fe2cbe44e10955762e6a569f1bd"
      }
     },
     "9150774afe954b9c95744ea6e25ca33d": {
      "model_module": "@jupyter-widgets/base",
      "model_module_version": "2.0.0",
      "model_name": "LayoutModel",
      "state": {}
     },
     "931bee2bdc7b414583dadc58e32cfe04": {
      "model_module": "@jupyter-widgets/controls",
      "model_module_version": "2.0.0",
      "model_name": "DropdownModel",
      "state": {
       "_options_labels": [
        "Jan",
        "Feb",
        "Mar",
        "Apr",
        "May",
        "Jun",
        "Jul",
        "Aug",
        "Sep",
        "Oct",
        "Nov",
        "Dec"
       ],
       "description": "Start Month: ",
       "index": 0,
       "layout": "IPY_MODEL_bfba6c3c708e44209767f1af19425071",
       "style": "IPY_MODEL_6bcba36aa18742a49768bbb7eb806399"
      }
     },
     "944fffa6e4f94d368e4bcd5c4cce83b5": {
      "model_module": "@jupyter-widgets/base",
      "model_module_version": "2.0.0",
      "model_name": "LayoutModel",
      "state": {}
     },
     "946c8ad574d648128993983bb2cb5842": {
      "model_module": "@jupyter-widgets/base",
      "model_module_version": "2.0.0",
      "model_name": "LayoutModel",
      "state": {}
     },
     "9512bf3773c241869f7d7794c7b73c41": {
      "model_module": "@jupyter-widgets/base",
      "model_module_version": "2.0.0",
      "model_name": "LayoutModel",
      "state": {}
     },
     "95b7196b9427494f9383c80c6146464f": {
      "model_module": "@jupyter-widgets/base",
      "model_module_version": "2.0.0",
      "model_name": "LayoutModel",
      "state": {}
     },
     "963ca4a0a6d148a2bf76846f9aeef917": {
      "model_module": "@jupyter-widgets/controls",
      "model_module_version": "2.0.0",
      "model_name": "ButtonModel",
      "state": {
       "button_style": "primary",
       "description": "📄 mock_data_file.csv",
       "layout": "IPY_MODEL_2744abb0259c43b3a3297f8aac39c4ba",
       "style": "IPY_MODEL_a0761273ee4f4716a2ae2e4938a147fa",
       "tooltip": null
      }
     },
     "980cf13dcad647bb9c6a1ec415c18fc1": {
      "model_module": "@jupyter-widgets/controls",
      "model_module_version": "2.0.0",
      "model_name": "ButtonStyleModel",
      "state": {
       "font_family": null,
       "font_size": null,
       "font_style": null,
       "font_variant": null,
       "font_weight": null,
       "text_color": null,
       "text_decoration": null
      }
     },
     "98b50c39b59340f08bb7ecbdd5dbc7c2": {
      "model_module": "@jupyter-widgets/base",
      "model_module_version": "2.0.0",
      "model_name": "LayoutModel",
      "state": {}
     },
     "99add579144b4b49a139773a39c341be": {
      "model_module": "@jupyter-widgets/controls",
      "model_module_version": "2.0.0",
      "model_name": "ButtonStyleModel",
      "state": {
       "font_family": null,
       "font_size": null,
       "font_style": null,
       "font_variant": null,
       "font_weight": null,
       "text_color": null,
       "text_decoration": null
      }
     },
     "9a213d3105f943de9dbfeefc0022b985": {
      "model_module": "@jupyter-widgets/base",
      "model_module_version": "2.0.0",
      "model_name": "LayoutModel",
      "state": {}
     },
     "9a63ac52f82543e190ff73d7e76dc4a6": {
      "model_module": "@jupyter-widgets/controls",
      "model_module_version": "2.0.0",
      "model_name": "ButtonStyleModel",
      "state": {
       "font_family": null,
       "font_size": null,
       "font_style": null,
       "font_variant": null,
       "font_weight": null,
       "text_color": null,
       "text_decoration": null
      }
     },
     "9af7e98dcc8043d49366d1e743ad7a87": {
      "model_module": "@jupyter-widgets/base",
      "model_module_version": "2.0.0",
      "model_name": "LayoutModel",
      "state": {}
     },
     "9cd033da9b1c49bbb85998d6623ad65d": {
      "model_module": "@jupyter-widgets/base",
      "model_module_version": "2.0.0",
      "model_name": "LayoutModel",
      "state": {}
     },
     "9f7791e07c9e4b448f1e345606945a0e": {
      "model_module": "@jupyter-widgets/controls",
      "model_module_version": "2.0.0",
      "model_name": "ButtonStyleModel",
      "state": {
       "font_family": null,
       "font_size": null,
       "font_style": null,
       "font_variant": null,
       "font_weight": null,
       "text_color": null,
       "text_decoration": null
      }
     },
     "9fe588f6f6d64d78acddea2ab5e8cda1": {
      "model_module": "@jupyter-widgets/controls",
      "model_module_version": "2.0.0",
      "model_name": "DropdownModel",
      "state": {
       "_options_labels": [
        "1986",
        "1987",
        "1988",
        "1989",
        "1990",
        "1991",
        "1992",
        "1993",
        "1994",
        "1995",
        "1996",
        "1997",
        "1998",
        "1999",
        "2000",
        "2001",
        "2002",
        "2003",
        "2004",
        "2005",
        "2006",
        "2007",
        "2008",
        "2009",
        "2010",
        "2011",
        "2012",
        "2013",
        "2014",
        "2015",
        "2016",
        "2017",
        "2018",
        "2019",
        "2020",
        "2021",
        "2022",
        "2023"
       ],
       "description": "End Year: ",
       "index": 34,
       "layout": "IPY_MODEL_2c4e704c84d348259b0928a8f35132d8",
       "style": "IPY_MODEL_af45dec2456942f289f0678dffdfc0b1"
      }
     },
     "a04d0a1d9ccd46b7a4a13270651a05be": {
      "model_module": "@jupyter-widgets/controls",
      "model_module_version": "2.0.0",
      "model_name": "HTMLModel",
      "state": {
       "layout": "IPY_MODEL_6045941eb96e4fb98e357a6cbdfbd629",
       "style": "IPY_MODEL_3ee1533583c74de390803017fd9c14c0",
       "value": "\n            <b style='color:#228B22;'>Rules for Random Forest Classification:</b>\n            <ul>\n                <li><b>Y Variable (Target):</b> Must be <span style='color:#FF4500;'>categorical</span> (binary or multi-class).</li>\n                <li><b>X Variables (Features):</b> Can be <span style='color:#1E90FF;'>continuous</span> or <span style='color:#FF8C00;'>categorical</span>.</li>\n                <li><b>Number of Trees (n_estimators):</b> Set the number of trees, typically between <span style='color:#FFD700;'>10 to 500</span>.</li>\n            </ul>\n            "
      }
     },
     "a0761273ee4f4716a2ae2e4938a147fa": {
      "model_module": "@jupyter-widgets/controls",
      "model_module_version": "2.0.0",
      "model_name": "ButtonStyleModel",
      "state": {
       "font_family": null,
       "font_size": null,
       "font_style": null,
       "font_variant": null,
       "font_weight": null,
       "text_color": null,
       "text_decoration": null
      }
     },
     "a0b72a8eba0544938f224de937624f33": {
      "model_module": "@jupyter-widgets/controls",
      "model_module_version": "2.0.0",
      "model_name": "ButtonStyleModel",
      "state": {
       "font_family": null,
       "font_size": null,
       "font_style": null,
       "font_variant": null,
       "font_weight": null,
       "text_color": null,
       "text_decoration": null
      }
     },
     "a1fe56e44fb64ace9cf010e7c643a231": {
      "model_module": "@jupyter-widgets/controls",
      "model_module_version": "2.0.0",
      "model_name": "ButtonModel",
      "state": {
       "button_style": "primary",
       "description": "📄 mock_data_file.csv",
       "layout": "IPY_MODEL_21e079229587444890fee1fde654e718",
       "style": "IPY_MODEL_8d4a54e4437247f8a0f05ca37e68ab18",
       "tooltip": null
      }
     },
     "a24a39ee031e4432a9ef71a6374c9fee": {
      "model_module": "@jupyter-widgets/base",
      "model_module_version": "2.0.0",
      "model_name": "LayoutModel",
      "state": {}
     },
     "a3b6fe970fa44a7a83fd72fbb8c1bc84": {
      "model_module": "@jupyter-widgets/base",
      "model_module_version": "2.0.0",
      "model_name": "LayoutModel",
      "state": {}
     },
     "a48f3960555849f9bba07997018dae2f": {
      "model_module": "@jupyter-widgets/controls",
      "model_module_version": "2.0.0",
      "model_name": "ButtonStyleModel",
      "state": {
       "font_family": null,
       "font_size": null,
       "font_style": null,
       "font_variant": null,
       "font_weight": null,
       "text_color": null,
       "text_decoration": null
      }
     },
     "a5388fe2cbe44e10955762e6a569f1bd": {
      "model_module": "@jupyter-widgets/controls",
      "model_module_version": "2.0.0",
      "model_name": "DescriptionStyleModel",
      "state": {
       "description_width": ""
      }
     },
     "a548c7ead08044bba38c60d2270dfc29": {
      "model_module": "@jupyter-widgets/base",
      "model_module_version": "2.0.0",
      "model_name": "LayoutModel",
      "state": {}
     },
     "a556071efa1b44feb40013eb8760896f": {
      "model_module": "@jupyter-widgets/controls",
      "model_module_version": "2.0.0",
      "model_name": "HTMLModel",
      "state": {
       "layout": "IPY_MODEL_69017f3a4d87459e8b5740369a934c3d",
       "style": "IPY_MODEL_e9e440573c40409685b0a9b883bcb0b6",
       "value": "<b style='color:#32CD32;'>✅ Selected Date Range: <span style='color:#FF69B4'>1990-01-01 to 2020-12-01</span></b>"
      }
     },
     "a57fa29f67ca4f689d9994e260bbb030": {
      "model_module": "@jupyter-widgets/controls",
      "model_module_version": "2.0.0",
      "model_name": "ButtonModel",
      "state": {
       "button_style": "info",
       "description": "📁 .ipynb_checkpoints",
       "layout": "IPY_MODEL_4c6ec1f29f6a40cba3a9e541bc24dbe1",
       "style": "IPY_MODEL_0ab1af1e06c245dd9514ee0c475209e1",
       "tooltip": null
      }
     },
     "a6298e30152040a0bfa6ddc61b8430c7": {
      "model_module": "@jupyter-widgets/controls",
      "model_module_version": "2.0.0",
      "model_name": "ButtonStyleModel",
      "state": {
       "font_family": null,
       "font_size": null,
       "font_style": null,
       "font_variant": null,
       "font_weight": null,
       "text_color": null,
       "text_decoration": null
      }
     },
     "a70b737968e34ecf90a13fa056781738": {
      "model_module": "@jupyter-widgets/base",
      "model_module_version": "2.0.0",
      "model_name": "LayoutModel",
      "state": {}
     },
     "a9c8494960a1490388ed715ed0f00e48": {
      "model_module": "@jupyter-widgets/base",
      "model_module_version": "2.0.0",
      "model_name": "LayoutModel",
      "state": {}
     },
     "ac5486906ce94bb98e4170b5a40eec78": {
      "model_module": "@jupyter-widgets/controls",
      "model_module_version": "2.0.0",
      "model_name": "DropdownModel",
      "state": {
       "_options_labels": [
        "Jan",
        "Feb",
        "Mar",
        "Apr",
        "May",
        "Jun",
        "Jul",
        "Aug",
        "Sep",
        "Oct",
        "Nov",
        "Dec"
       ],
       "description": "End Month: ",
       "index": 11,
       "layout": "IPY_MODEL_7ab3d924cfca4daba316574cba17024e",
       "style": "IPY_MODEL_10cb85070870457e9f0d0b80d36e1645"
      }
     },
     "ad37f24e47c243a3bc858c283782d2df": {
      "model_module": "@jupyter-widgets/controls",
      "model_module_version": "2.0.0",
      "model_name": "ButtonModel",
      "state": {
       "button_style": "primary",
       "description": "📄 mock_data_file.csv",
       "layout": "IPY_MODEL_0256e68970a74804958224f9e6038959",
       "style": "IPY_MODEL_9f7791e07c9e4b448f1e345606945a0e",
       "tooltip": null
      }
     },
     "aed2559af8bf476388ef681a9de7958e": {
      "model_module": "@jupyter-widgets/base",
      "model_module_version": "2.0.0",
      "model_name": "LayoutModel",
      "state": {}
     },
     "af45dec2456942f289f0678dffdfc0b1": {
      "model_module": "@jupyter-widgets/controls",
      "model_module_version": "2.0.0",
      "model_name": "DescriptionStyleModel",
      "state": {
       "description_width": ""
      }
     },
     "b179bfcb712c401b9fad58c5370abbdc": {
      "model_module": "@jupyter-widgets/controls",
      "model_module_version": "2.0.0",
      "model_name": "ButtonModel",
      "state": {
       "button_style": "primary",
       "description": "📄 C-OIL_MON$AVG-BARL_1986-2024.csv",
       "layout": "IPY_MODEL_3650a22ec4704bc38fb3af7f992493c6",
       "style": "IPY_MODEL_d460a45281a448dfb96c90e5b3db6402",
       "tooltip": null
      }
     },
     "b220acba246c42978c69856dc2bc6a96": {
      "model_module": "@jupyter-widgets/base",
      "model_module_version": "2.0.0",
      "model_name": "LayoutModel",
      "state": {}
     },
     "b31749cfd522472a8e7cca1f83215ebb": {
      "model_module": "@jupyter-widgets/output",
      "model_module_version": "1.0.0",
      "model_name": "OutputModel",
      "state": {
       "layout": "IPY_MODEL_9512bf3773c241869f7d7794c7b73c41",
       "outputs": [
        {
         "name": "stdout",
         "output_type": "stream",
         "text": "\u001b[1m\u001b[38;2;0;123;51mFinished uploading files.\u001b[0m\n{\n    \"C-OIL_MON$AVG-BARL_1986-2024.csv\": {\n        \"path\": \"/Users/levigagne/Desktop/JupyterLab/data/C-OIL_MON$AVG-BARL_1986-2024.csv\",\n        \"headers\": [\n            \"observation_date\",\n            \"DCOILWTICO\"\n        ]\n    },\n    \"FEDFUNDSRATE_MON_1960-2023.csv\": {\n        \"path\": \"/Users/levigagne/Desktop/JupyterLab/data/FEDFUNDSRATE_MON_1960-2023.csv\",\n        \"headers\": [\n            \"observation_date\",\n            \"IRSTFR01USM156N\"\n        ]\n    },\n    \"POP_MON_1959-2024.csv\": {\n        \"path\": \"/Users/levigagne/Desktop/JupyterLab/data/POP_MON_1959-2024.csv\",\n        \"headers\": [\n            \"observation_date\",\n            \"POPTHM\"\n        ]\n    },\n    \"TOTALVEHICLESALES_MON_1976-2024.csv\": {\n        \"path\": \"/Users/levigagne/Desktop/JupyterLab/data/TOTALVEHICLESALES_MON_1976-2024.csv\",\n        \"headers\": [\n            \"observation_date\",\n            \"TOTALSA\"\n        ]\n    },\n    \"UNRATE_MON_1948-2024.csv\": {\n        \"path\": \"/Users/levigagne/Desktop/JupyterLab/data/UNRATE_MON_1948-2024.csv\",\n        \"headers\": [\n            \"observation_date\",\n            \"UNRATE\"\n        ]\n    }\n}\n"
        }
       ]
      }
     },
     "b36b6d58697a43858bbef383082e8361": {
      "model_module": "@jupyter-widgets/base",
      "model_module_version": "2.0.0",
      "model_name": "LayoutModel",
      "state": {}
     },
     "b389eaf9453447a2aac6e774f6493a1a": {
      "model_module": "@jupyter-widgets/controls",
      "model_module_version": "2.0.0",
      "model_name": "ButtonStyleModel",
      "state": {
       "font_family": null,
       "font_size": null,
       "font_style": null,
       "font_variant": null,
       "font_weight": null,
       "text_color": null,
       "text_decoration": null
      }
     },
     "b46f8b17300140d5a7794f466b3b09f4": {
      "model_module": "@jupyter-widgets/base",
      "model_module_version": "2.0.0",
      "model_name": "LayoutModel",
      "state": {}
     },
     "b4767b4666164ac7bf7dbeb7108d3f6e": {
      "model_module": "@jupyter-widgets/controls",
      "model_module_version": "2.0.0",
      "model_name": "ButtonModel",
      "state": {
       "button_style": "info",
       "description": "📁 venv",
       "layout": "IPY_MODEL_2dbf0b135285453894e3b74e0aeef846",
       "style": "IPY_MODEL_1048dc3a28d7435ba3b7da4e7576835b",
       "tooltip": null
      }
     },
     "b4fc636caec84fbda11b187ad2477e3c": {
      "model_module": "@jupyter-widgets/base",
      "model_module_version": "2.0.0",
      "model_name": "LayoutModel",
      "state": {}
     },
     "b6d979a473ab4f0790cbef182ba131eb": {
      "model_module": "@jupyter-widgets/controls",
      "model_module_version": "2.0.0",
      "model_name": "ButtonStyleModel",
      "state": {
       "font_family": null,
       "font_size": null,
       "font_style": null,
       "font_variant": null,
       "font_weight": null,
       "text_color": null,
       "text_decoration": null
      }
     },
     "b6d9b6cf2c8f400c8a89463fdcdaa78e": {
      "model_module": "@jupyter-widgets/controls",
      "model_module_version": "2.0.0",
      "model_name": "ButtonModel",
      "state": {
       "button_style": "primary",
       "description": "📄 C-OIL_MON$AVG-BARL_1986-2024.csv",
       "layout": "IPY_MODEL_b220acba246c42978c69856dc2bc6a96",
       "style": "IPY_MODEL_2fb7785d9c65412d997e6aaa0e903950",
       "tooltip": null
      }
     },
     "b796e6a03ec049cd89c095d01d391a20": {
      "model_module": "@jupyter-widgets/controls",
      "model_module_version": "2.0.0",
      "model_name": "ButtonStyleModel",
      "state": {
       "font_family": null,
       "font_size": null,
       "font_style": null,
       "font_variant": null,
       "font_weight": null,
       "text_color": null,
       "text_decoration": null
      }
     },
     "b9d5713e4dbc474f8c69118328e317fc": {
      "model_module": "@jupyter-widgets/base",
      "model_module_version": "2.0.0",
      "model_name": "LayoutModel",
      "state": {}
     },
     "bab7e471e6834b94b07ede4ed2c2a7ba": {
      "model_module": "@jupyter-widgets/base",
      "model_module_version": "2.0.0",
      "model_name": "LayoutModel",
      "state": {}
     },
     "bb15975d142f4528be938889ccc88545": {
      "model_module": "@jupyter-widgets/controls",
      "model_module_version": "2.0.0",
      "model_name": "HTMLModel",
      "state": {
       "layout": "IPY_MODEL_9150774afe954b9c95744ea6e25ca33d",
       "style": "IPY_MODEL_7cf3480977a54168883bc0eaff48a083",
       "value": "<b>Selecting variables for <span style='color:#228B22'>Linear Regression</span> model:</b>"
      }
     },
     "bb8a80da18e04c1ab2efa5faccd1843f": {
      "model_module": "@jupyter-widgets/controls",
      "model_module_version": "2.0.0",
      "model_name": "ButtonStyleModel",
      "state": {
       "font_family": null,
       "font_size": null,
       "font_style": null,
       "font_variant": null,
       "font_weight": null,
       "text_color": null,
       "text_decoration": null
      }
     },
     "bd2733dd0f5049809f031129e10f52d0": {
      "model_module": "@jupyter-widgets/controls",
      "model_module_version": "2.0.0",
      "model_name": "ButtonModel",
      "state": {
       "button_style": "primary",
       "description": "📄 large_logistic_regression_dataset.csv",
       "layout": "IPY_MODEL_5d9b8e75fff748f0818aa25083c1065d",
       "style": "IPY_MODEL_fc9761d0527a4b5e9d5ed7202c5a257c",
       "tooltip": null
      }
     },
     "bd91ee00eb2b4a669a9c6d316d4b63ca": {
      "model_module": "@jupyter-widgets/controls",
      "model_module_version": "2.0.0",
      "model_name": "ButtonModel",
      "state": {
       "button_style": "info",
       "description": "📁 data",
       "layout": "IPY_MODEL_27af371992404087820db21fcc39c7a4",
       "style": "IPY_MODEL_e3d9e9b5acd74773810d71c69b30d042",
       "tooltip": null
      }
     },
     "be783e0028554ca9a54e231f16104e0d": {
      "model_module": "@jupyter-widgets/base",
      "model_module_version": "2.0.0",
      "model_name": "LayoutModel",
      "state": {}
     },
     "bf04d4e551e84bfbb1c6b0c691613a8c": {
      "model_module": "@jupyter-widgets/controls",
      "model_module_version": "2.0.0",
      "model_name": "DropdownModel",
      "state": {
       "_options_labels": [
        "observation_date",
        "UNRATE"
       ],
       "description": "UNRATE_MON_1948-2024.csv:",
       "index": 0,
       "layout": "IPY_MODEL_a3b6fe970fa44a7a83fd72fbb8c1bc84",
       "style": "IPY_MODEL_72572a467bd94333876a11be81f3b5d5"
      }
     },
     "bf66e8583cfe48b1b76549f8b7269ae3": {
      "model_module": "@jupyter-widgets/controls",
      "model_module_version": "2.0.0",
      "model_name": "DescriptionStyleModel",
      "state": {
       "description_width": ""
      }
     },
     "bfba6c3c708e44209767f1af19425071": {
      "model_module": "@jupyter-widgets/base",
      "model_module_version": "2.0.0",
      "model_name": "LayoutModel",
      "state": {}
     },
     "c01817f135ff4d02aa39c35de2467e8d": {
      "model_module": "@jupyter-widgets/controls",
      "model_module_version": "2.0.0",
      "model_name": "ButtonStyleModel",
      "state": {
       "font_family": null,
       "font_size": null,
       "font_style": null,
       "font_variant": null,
       "font_weight": null,
       "text_color": null,
       "text_decoration": null
      }
     },
     "c1e67d3df1ab4d1aacae8ba703fa4495": {
      "model_module": "@jupyter-widgets/controls",
      "model_module_version": "2.0.0",
      "model_name": "SelectMultipleModel",
      "state": {
       "_options_labels": [
        "DCOILWTICO",
        "IRSTFR01USM156N",
        "POPTHM",
        "TOTALSA",
        "UNRATE"
       ],
       "description": "X Variables:",
       "index": [
        0,
        1,
        3,
        4
       ],
       "layout": "IPY_MODEL_a9c8494960a1490388ed715ed0f00e48",
       "rows": 5,
       "style": "IPY_MODEL_84f16142c22c47fca4150e6bd0f87b39"
      }
     },
     "c42c83f6b2614af6b3bd19e74bab2cb9": {
      "model_module": "@jupyter-widgets/controls",
      "model_module_version": "2.0.0",
      "model_name": "ButtonStyleModel",
      "state": {
       "font_family": null,
       "font_size": null,
       "font_style": null,
       "font_variant": null,
       "font_weight": null,
       "text_color": null,
       "text_decoration": null
      }
     },
     "c4d4f35533fa4cc0bb8695f35b1b9166": {
      "model_module": "@jupyter-widgets/controls",
      "model_module_version": "2.0.0",
      "model_name": "ButtonStyleModel",
      "state": {
       "font_family": null,
       "font_size": null,
       "font_style": null,
       "font_variant": null,
       "font_weight": null,
       "text_color": null,
       "text_decoration": null
      }
     },
     "c4e86b534dd7410f8551f12328cca97e": {
      "model_module": "@jupyter-widgets/controls",
      "model_module_version": "2.0.0",
      "model_name": "HTMLStyleModel",
      "state": {
       "description_width": "",
       "font_size": null,
       "text_color": null
      }
     },
     "c5e5a51fcb8645389ec8a3d4955ad309": {
      "model_module": "@jupyter-widgets/controls",
      "model_module_version": "2.0.0",
      "model_name": "ButtonModel",
      "state": {
       "button_style": "primary",
       "description": "📄 TOTALVEHICLESALES_MON_1976-2024.csv",
       "layout": "IPY_MODEL_3e3df9ee0ed04e92b3b8727ea2dd377b",
       "style": "IPY_MODEL_c81b3190b02a4860a4055f861dec4252",
       "tooltip": null
      }
     },
     "c62e288d34b64acfa061d172697606c5": {
      "model_module": "@jupyter-widgets/controls",
      "model_module_version": "2.0.0",
      "model_name": "DescriptionStyleModel",
      "state": {
       "description_width": ""
      }
     },
     "c6a5debf1f6a42b9bf3cf24c6be2a7fa": {
      "model_module": "@jupyter-widgets/controls",
      "model_module_version": "2.0.0",
      "model_name": "ButtonStyleModel",
      "state": {
       "font_family": null,
       "font_size": null,
       "font_style": null,
       "font_variant": null,
       "font_weight": null,
       "text_color": null,
       "text_decoration": null
      }
     },
     "c81b3190b02a4860a4055f861dec4252": {
      "model_module": "@jupyter-widgets/controls",
      "model_module_version": "2.0.0",
      "model_name": "ButtonStyleModel",
      "state": {
       "font_family": null,
       "font_size": null,
       "font_style": null,
       "font_variant": null,
       "font_weight": null,
       "text_color": null,
       "text_decoration": null
      }
     },
     "c90c5af626f349e4be7961123ca5e9f8": {
      "model_module": "@jupyter-widgets/base",
      "model_module_version": "2.0.0",
      "model_name": "LayoutModel",
      "state": {}
     },
     "ca40923df9de45798e2da14ccbfe5739": {
      "model_module": "@jupyter-widgets/base",
      "model_module_version": "2.0.0",
      "model_name": "LayoutModel",
      "state": {}
     },
     "cad69add0c8a444585a1a09acf5ebf75": {
      "model_module": "@jupyter-widgets/controls",
      "model_module_version": "2.0.0",
      "model_name": "ButtonModel",
      "state": {
       "button_style": "primary",
       "description": "📄 logistic_regression_dataset-Social_Network_Ads.csv",
       "layout": "IPY_MODEL_4ef2b20c1b0648e292b4801c9f0aa6ae",
       "style": "IPY_MODEL_ce572b4291d04152a187b5fa94f85ec8",
       "tooltip": null
      }
     },
     "cc8a5f8be4f342d8b60f27eed8d3d121": {
      "model_module": "@jupyter-widgets/controls",
      "model_module_version": "2.0.0",
      "model_name": "ButtonStyleModel",
      "state": {
       "font_family": null,
       "font_size": null,
       "font_style": null,
       "font_variant": null,
       "font_weight": null,
       "text_color": null,
       "text_decoration": null
      }
     },
     "ce572b4291d04152a187b5fa94f85ec8": {
      "model_module": "@jupyter-widgets/controls",
      "model_module_version": "2.0.0",
      "model_name": "ButtonStyleModel",
      "state": {
       "font_family": null,
       "font_size": null,
       "font_style": null,
       "font_variant": null,
       "font_weight": null,
       "text_color": null,
       "text_decoration": null
      }
     },
     "cfd004fdd8394b5d8d3646da85b50165": {
      "model_module": "@jupyter-widgets/controls",
      "model_module_version": "2.0.0",
      "model_name": "ButtonModel",
      "state": {
       "button_style": "warning",
       "description": "⬅️ Back",
       "layout": "IPY_MODEL_3c04e39d0ec34c6d97fca6ccb8c4d5d6",
       "style": "IPY_MODEL_fffa308a09854eb6910d9515285208d0",
       "tooltip": null
      }
     },
     "d1d235f6f9934dc89423ba997bfa5678": {
      "model_module": "@jupyter-widgets/base",
      "model_module_version": "2.0.0",
      "model_name": "LayoutModel",
      "state": {}
     },
     "d2321c1cb13c4a4ebe97f46a473dbdb3": {
      "model_module": "@jupyter-widgets/output",
      "model_module_version": "1.0.0",
      "model_name": "OutputModel",
      "state": {
       "layout": "IPY_MODEL_a70b737968e34ecf90a13fa056781738",
       "outputs": [
        {
         "name": "stdout",
         "output_type": "stream",
         "text": "\n\u001b[1m\u001b[38;2;255;255;240m📅 Please select the '\u001b[0m\u001b[1m\u001b[38;2;226;76;44mdate column\u001b[0m\u001b[1m\u001b[38;2;255;255;240m' associated with each dataset from the dropdowns below.\u001b[0m\n"
        },
        {
         "data": {
          "application/vnd.jupyter.widget-view+json": {
           "model_id": "739f0ac1a86244e887da722805725a81",
           "version_major": 2,
           "version_minor": 0
          },
          "text/plain": "Dropdown(description='C-OIL_MON$AVG-BARL_1986-2024.csv:', options=('observation_date', 'DCOILWTICO'), value='o…"
         },
         "metadata": {},
         "output_type": "display_data"
        },
        {
         "data": {
          "application/vnd.jupyter.widget-view+json": {
           "model_id": "5b5d87dcb0974e9a9a4a17c6733b2f17",
           "version_major": 2,
           "version_minor": 0
          },
          "text/plain": "Dropdown(description='FEDFUNDSRATE_MON_1960-2023.csv:', options=('observation_date', 'IRSTFR01USM156N'), value…"
         },
         "metadata": {},
         "output_type": "display_data"
        },
        {
         "data": {
          "application/vnd.jupyter.widget-view+json": {
           "model_id": "f89086c2f8794a57b7010db507ed0302",
           "version_major": 2,
           "version_minor": 0
          },
          "text/plain": "Dropdown(description='POP_MON_1959-2024.csv:', options=('observation_date', 'POPTHM'), value='observation_date…"
         },
         "metadata": {},
         "output_type": "display_data"
        },
        {
         "data": {
          "application/vnd.jupyter.widget-view+json": {
           "model_id": "393cdb6767494f0c81994b745a904713",
           "version_major": 2,
           "version_minor": 0
          },
          "text/plain": "Dropdown(description='TOTALVEHICLESALES_MON_1976-2024.csv:', options=('observation_date', 'TOTALSA'), value='o…"
         },
         "metadata": {},
         "output_type": "display_data"
        },
        {
         "data": {
          "application/vnd.jupyter.widget-view+json": {
           "model_id": "bf04d4e551e84bfbb1c6b0c691613a8c",
           "version_major": 2,
           "version_minor": 0
          },
          "text/plain": "Dropdown(description='UNRATE_MON_1948-2024.csv:', options=('observation_date', 'UNRATE'), value='observation_d…"
         },
         "metadata": {},
         "output_type": "display_data"
        }
       ]
      }
     },
     "d31225c98db344698c8f6e8217b23324": {
      "model_module": "@jupyter-widgets/controls",
      "model_module_version": "2.0.0",
      "model_name": "ButtonModel",
      "state": {
       "button_style": "info",
       "description": "📁 .ipynb_checkpoints",
       "layout": "IPY_MODEL_0e0e26df39954fca87a02bbc2dc63016",
       "style": "IPY_MODEL_2ae6d513c154433cbac81a5c6b9ad5fb",
       "tooltip": null
      }
     },
     "d32758f658fb4ce192a37336333d37e3": {
      "model_module": "@jupyter-widgets/controls",
      "model_module_version": "2.0.0",
      "model_name": "ButtonModel",
      "state": {
       "button_style": "primary",
       "description": "📄 FEDFUNDSRATE_MON_1960-2023.csv",
       "layout": "IPY_MODEL_944fffa6e4f94d368e4bcd5c4cce83b5",
       "style": "IPY_MODEL_9a63ac52f82543e190ff73d7e76dc4a6",
       "tooltip": null
      }
     },
     "d3651d7916b647ed8ea9eb07389bef84": {
      "model_module": "@jupyter-widgets/base",
      "model_module_version": "2.0.0",
      "model_name": "LayoutModel",
      "state": {}
     },
     "d42cbcdb2da04916b149bf732a14ab7c": {
      "model_module": "@jupyter-widgets/controls",
      "model_module_version": "2.0.0",
      "model_name": "DropdownModel",
      "state": {
       "_options_labels": [
        "Daily",
        "Weekly",
        "Monthly",
        "Quarterly",
        "Annually"
       ],
       "description": "Frequency:",
       "index": 2,
       "layout": "IPY_MODEL_7a867fe8467346ffb9ef3aebaea1e896",
       "style": "IPY_MODEL_2d8bde93bf9a443988d93526e34d7abb"
      }
     },
     "d460a45281a448dfb96c90e5b3db6402": {
      "model_module": "@jupyter-widgets/controls",
      "model_module_version": "2.0.0",
      "model_name": "ButtonStyleModel",
      "state": {
       "font_family": null,
       "font_size": null,
       "font_style": null,
       "font_variant": null,
       "font_weight": null,
       "text_color": null,
       "text_decoration": null
      }
     },
     "d66979a5e52a43369f69fb2f5346cf81": {
      "model_module": "@jupyter-widgets/controls",
      "model_module_version": "2.0.0",
      "model_name": "HTMLStyleModel",
      "state": {
       "description_width": "",
       "font_size": null,
       "text_color": null
      }
     },
     "d6ec98c8834942fe91a9db5d9fef0049": {
      "model_module": "@jupyter-widgets/controls",
      "model_module_version": "2.0.0",
      "model_name": "ButtonModel",
      "state": {
       "button_style": "primary",
       "description": "📄 POP_MON_1959-2024.csv",
       "layout": "IPY_MODEL_b46f8b17300140d5a7794f466b3b09f4",
       "style": "IPY_MODEL_bb8a80da18e04c1ab2efa5faccd1843f",
       "tooltip": null
      }
     },
     "d7c8b5efa6c748b8b0f01e556cbf1595": {
      "model_module": "@jupyter-widgets/base",
      "model_module_version": "2.0.0",
      "model_name": "LayoutModel",
      "state": {}
     },
     "d7ec821cefb14132874a52106de74447": {
      "model_module": "@jupyter-widgets/controls",
      "model_module_version": "2.0.0",
      "model_name": "ButtonModel",
      "state": {
       "button_style": "primary",
       "description": "📄 large_logistic_regression_dataset.csv",
       "layout": "IPY_MODEL_71632265f3184a1e98bd1242036a4b96",
       "style": "IPY_MODEL_62e10681c6d44e9499872ed4643ddb1a",
       "tooltip": null
      }
     },
     "dbafec0749d44f179cc95898a59c8cf7": {
      "model_module": "@jupyter-widgets/controls",
      "model_module_version": "2.0.0",
      "model_name": "DescriptionStyleModel",
      "state": {
       "description_width": ""
      }
     },
     "dc4544cdb1074d99b8eae2ed25e4e7b0": {
      "model_module": "@jupyter-widgets/controls",
      "model_module_version": "2.0.0",
      "model_name": "HTMLModel",
      "state": {
       "layout": "IPY_MODEL_29696816afe54c31a2aa02b7074a4a0f",
       "style": "IPY_MODEL_8d2a0fabe2854a78946ca6be144d00a0",
       "value": "<b style='color:#FF69B4;'>Selections saved to 'econometric_data/selected_variables.json'</b>"
      }
     },
     "dc79caf180574cbebbf82cdbb369c0ad": {
      "model_module": "@jupyter-widgets/controls",
      "model_module_version": "2.0.0",
      "model_name": "ButtonStyleModel",
      "state": {
       "font_family": null,
       "font_size": null,
       "font_style": null,
       "font_variant": null,
       "font_weight": null,
       "text_color": null,
       "text_decoration": null
      }
     },
     "ddeb3d35499b40288a6c3d944d7666e8": {
      "model_module": "@jupyter-widgets/base",
      "model_module_version": "2.0.0",
      "model_name": "LayoutModel",
      "state": {}
     },
     "ddff752736d84101a68b9f7cc626fbed": {
      "model_module": "@jupyter-widgets/base",
      "model_module_version": "2.0.0",
      "model_name": "LayoutModel",
      "state": {}
     },
     "e04a75bb7c784fa5bc8d6c5990154cfd": {
      "model_module": "@jupyter-widgets/controls",
      "model_module_version": "2.0.0",
      "model_name": "HTMLModel",
      "state": {
       "layout": "IPY_MODEL_5b66a6bb9ec54390ae85c241903fcd27",
       "style": "IPY_MODEL_f123d1bf011b4e6dad0c738a82abff37",
       "value": "<b>Please Select the '<span style='color:#1E90FF'>Dependent Variable</span>' for the Regression:</b>"
      }
     },
     "e3d9e9b5acd74773810d71c69b30d042": {
      "model_module": "@jupyter-widgets/controls",
      "model_module_version": "2.0.0",
      "model_name": "ButtonStyleModel",
      "state": {
       "font_family": null,
       "font_size": null,
       "font_style": null,
       "font_variant": null,
       "font_weight": null,
       "text_color": null,
       "text_decoration": null
      }
     },
     "e4a0a93966e64b1b978aaf488c9ca107": {
      "model_module": "@jupyter-widgets/base",
      "model_module_version": "2.0.0",
      "model_name": "LayoutModel",
      "state": {}
     },
     "e528fa00bccc4fe69ac23a2c7fa1dbbb": {
      "model_module": "@jupyter-widgets/controls",
      "model_module_version": "2.0.0",
      "model_name": "ButtonModel",
      "state": {
       "button_style": "primary",
       "description": "📄 TOTALVEHICLESALES_MON_1976-2024.csv",
       "layout": "IPY_MODEL_8f44b7149c9a4016ae4568bff112d830",
       "style": "IPY_MODEL_f02ccb03cce140f9ac507decc9a3bfd3",
       "tooltip": null
      }
     },
     "e560fffa93e64b2d83f8ed31ec465866": {
      "model_module": "@jupyter-widgets/controls",
      "model_module_version": "2.0.0",
      "model_name": "ButtonStyleModel",
      "state": {
       "font_family": null,
       "font_size": null,
       "font_style": null,
       "font_variant": null,
       "font_weight": null,
       "text_color": null,
       "text_decoration": null
      }
     },
     "e866826c3cc24f429f84e7949e877c92": {
      "model_module": "@jupyter-widgets/base",
      "model_module_version": "2.0.0",
      "model_name": "LayoutModel",
      "state": {}
     },
     "e8bd812c099d480b987831cf8727d515": {
      "model_module": "@jupyter-widgets/controls",
      "model_module_version": "2.0.0",
      "model_name": "ButtonModel",
      "state": {
       "button_style": "success",
       "description": "Submit Selections",
       "layout": "IPY_MODEL_7e562bafdfe34169b5627680f08a508e",
       "style": "IPY_MODEL_b389eaf9453447a2aac6e774f6493a1a",
       "tooltip": null
      }
     },
     "e924d128657b43678dccb16895784d5e": {
      "model_module": "@jupyter-widgets/controls",
      "model_module_version": "2.0.0",
      "model_name": "ButtonModel",
      "state": {
       "button_style": "primary",
       "description": "📄 C-OIL_MON$AVG-BARL_1986-2024.csv",
       "layout": "IPY_MODEL_98b50c39b59340f08bb7ecbdd5dbc7c2",
       "style": "IPY_MODEL_536d33d37ae441cfaf81e3ddc8a45169",
       "tooltip": null
      }
     },
     "e9e440573c40409685b0a9b883bcb0b6": {
      "model_module": "@jupyter-widgets/controls",
      "model_module_version": "2.0.0",
      "model_name": "HTMLStyleModel",
      "state": {
       "description_width": "",
       "font_size": null,
       "text_color": null
      }
     },
     "eab49046e4b04d52b15ee9996d86d322": {
      "model_module": "@jupyter-widgets/base",
      "model_module_version": "2.0.0",
      "model_name": "LayoutModel",
      "state": {}
     },
     "ed18e8dfc79146098b6cc996e7b5fcad": {
      "model_module": "@jupyter-widgets/controls",
      "model_module_version": "2.0.0",
      "model_name": "ButtonModel",
      "state": {
       "button_style": "primary",
       "description": "📄 TOTALVEHICLESALES_MON_1976-2024.csv",
       "layout": "IPY_MODEL_56be04e9b5c34a389ddbf4679be85449",
       "style": "IPY_MODEL_73be6609655a4b1bb6f72a167e0d2ab0",
       "tooltip": null
      }
     },
     "ed4af92b4c514238bb4abc49b92b24c9": {
      "model_module": "@jupyter-widgets/base",
      "model_module_version": "2.0.0",
      "model_name": "LayoutModel",
      "state": {}
     },
     "ee1b513abd1f42188bad730edae51f74": {
      "model_module": "@jupyter-widgets/controls",
      "model_module_version": "2.0.0",
      "model_name": "ButtonStyleModel",
      "state": {
       "font_family": null,
       "font_size": null,
       "font_style": null,
       "font_variant": null,
       "font_weight": null,
       "text_color": null,
       "text_decoration": null
      }
     },
     "ee342a349a124617a27381965cbbc148": {
      "model_module": "@jupyter-widgets/base",
      "model_module_version": "2.0.0",
      "model_name": "LayoutModel",
      "state": {}
     },
     "ef9f80817c8048f0b8d36bb251c1ce1a": {
      "model_module": "@jupyter-widgets/controls",
      "model_module_version": "2.0.0",
      "model_name": "ButtonModel",
      "state": {
       "button_style": "primary",
       "description": "📄 mock_data_file.csv",
       "layout": "IPY_MODEL_be783e0028554ca9a54e231f16104e0d",
       "style": "IPY_MODEL_396e6cfc3bb64905a6407bed15b90851",
       "tooltip": null
      }
     },
     "efec12e44fa1453c8b2ac06b1209b35d": {
      "model_module": "@jupyter-widgets/controls",
      "model_module_version": "2.0.0",
      "model_name": "ButtonStyleModel",
      "state": {
       "font_family": null,
       "font_size": null,
       "font_style": null,
       "font_variant": null,
       "font_weight": null,
       "text_color": null,
       "text_decoration": null
      }
     },
     "f02ccb03cce140f9ac507decc9a3bfd3": {
      "model_module": "@jupyter-widgets/controls",
      "model_module_version": "2.0.0",
      "model_name": "ButtonStyleModel",
      "state": {
       "font_family": null,
       "font_size": null,
       "font_style": null,
       "font_variant": null,
       "font_weight": null,
       "text_color": null,
       "text_decoration": null
      }
     },
     "f123d1bf011b4e6dad0c738a82abff37": {
      "model_module": "@jupyter-widgets/controls",
      "model_module_version": "2.0.0",
      "model_name": "HTMLStyleModel",
      "state": {
       "description_width": "",
       "font_size": null,
       "text_color": null
      }
     },
     "f198be6073334acab796399439b24be6": {
      "model_module": "@jupyter-widgets/controls",
      "model_module_version": "2.0.0",
      "model_name": "ButtonStyleModel",
      "state": {
       "font_family": null,
       "font_size": null,
       "font_style": null,
       "font_variant": null,
       "font_weight": null,
       "text_color": null,
       "text_decoration": null
      }
     },
     "f30cbdd5f41a47fe9184b6ba93dff7f8": {
      "model_module": "@jupyter-widgets/controls",
      "model_module_version": "2.0.0",
      "model_name": "DropdownModel",
      "state": {
       "_options_labels": [
        "DCOILWTICO",
        "IRSTFR01USM156N",
        "POPTHM",
        "TOTALSA",
        "UNRATE"
       ],
       "description": "Y Variable:",
       "index": 2,
       "layout": "IPY_MODEL_2ae16fac3e864df1b3ffa0078fe53b17",
       "style": "IPY_MODEL_c62e288d34b64acfa061d172697606c5"
      }
     },
     "f424e5670080426992782cb82fd3dbe5": {
      "model_module": "@jupyter-widgets/base",
      "model_module_version": "2.0.0",
      "model_name": "LayoutModel",
      "state": {}
     },
     "f56ba264d0d14f4a8be85a6635a35552": {
      "model_module": "@jupyter-widgets/controls",
      "model_module_version": "2.0.0",
      "model_name": "ButtonModel",
      "state": {
       "button_style": "info",
       "description": "📁 econometric_data",
       "layout": "IPY_MODEL_a548c7ead08044bba38c60d2270dfc29",
       "style": "IPY_MODEL_3889e37e31164e618d5a57b95af00572",
       "tooltip": null
      }
     },
     "f83a62e28a1c47dbbcfcbe000950d6bb": {
      "model_module": "@jupyter-widgets/base",
      "model_module_version": "2.0.0",
      "model_name": "LayoutModel",
      "state": {}
     },
     "f89086c2f8794a57b7010db507ed0302": {
      "model_module": "@jupyter-widgets/controls",
      "model_module_version": "2.0.0",
      "model_name": "DropdownModel",
      "state": {
       "_options_labels": [
        "observation_date",
        "POPTHM"
       ],
       "description": "POP_MON_1959-2024.csv:",
       "index": 0,
       "layout": "IPY_MODEL_4115c5a59c984400aebdb5762854ccd7",
       "style": "IPY_MODEL_6698e8713725445fbce104088fae0c04"
      }
     },
     "fc93bc3e63ab401c96b66d6db38df1b6": {
      "model_module": "@jupyter-widgets/controls",
      "model_module_version": "2.0.0",
      "model_name": "ButtonStyleModel",
      "state": {
       "font_family": null,
       "font_size": null,
       "font_style": null,
       "font_variant": null,
       "font_weight": null,
       "text_color": null,
       "text_decoration": null
      }
     },
     "fc9761d0527a4b5e9d5ed7202c5a257c": {
      "model_module": "@jupyter-widgets/controls",
      "model_module_version": "2.0.0",
      "model_name": "ButtonStyleModel",
      "state": {
       "font_family": null,
       "font_size": null,
       "font_style": null,
       "font_variant": null,
       "font_weight": null,
       "text_color": null,
       "text_decoration": null
      }
     },
     "fd4111d97327432a8a45716f062c9f90": {
      "model_module": "@jupyter-widgets/base",
      "model_module_version": "2.0.0",
      "model_name": "LayoutModel",
      "state": {}
     },
     "feeb05277b6b4c629d50c8d6d8aa2877": {
      "model_module": "@jupyter-widgets/controls",
      "model_module_version": "2.0.0",
      "model_name": "ButtonModel",
      "state": {
       "button_style": "primary",
       "description": "📄 mock_dataset.csv",
       "layout": "IPY_MODEL_ddeb3d35499b40288a6c3d944d7666e8",
       "style": "IPY_MODEL_8c5d9024968a43f183d2d3a04eb42a57",
       "tooltip": null
      }
     },
     "ffdff86d54e54d8bbccfda76b2c28588": {
      "model_module": "@jupyter-widgets/controls",
      "model_module_version": "2.0.0",
      "model_name": "ButtonModel",
      "state": {
       "button_style": "primary",
       "description": "Finished Uploading",
       "layout": "IPY_MODEL_ed4af92b4c514238bb4abc49b92b24c9",
       "style": "IPY_MODEL_a0b72a8eba0544938f224de937624f33",
       "tooltip": null
      }
     },
     "fffa308a09854eb6910d9515285208d0": {
      "model_module": "@jupyter-widgets/controls",
      "model_module_version": "2.0.0",
      "model_name": "ButtonStyleModel",
      "state": {
       "font_family": null,
       "font_size": null,
       "font_style": null,
       "font_variant": null,
       "font_weight": null,
       "text_color": null,
       "text_decoration": null
      }
     }
    },
    "version_major": 2,
    "version_minor": 0
   }
  }
 },
 "nbformat": 4,
 "nbformat_minor": 5
}
